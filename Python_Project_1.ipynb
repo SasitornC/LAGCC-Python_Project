{
  "cells": [
    {
      "cell_type": "markdown",
      "metadata": {
        "id": "view-in-github",
        "colab_type": "text"
      },
      "source": [
        "<a href=\"https://colab.research.google.com/github/SasitornC/LaGuadia-Python_Project1/blob/main/Python_Project_1.ipynb\" target=\"_parent\"><img src=\"https://colab.research.google.com/assets/colab-badge.svg\" alt=\"Open In Colab\"/></a>"
      ]
    },
    {
      "cell_type": "code",
      "execution_count": null,
      "metadata": {
        "id": "ai4hBuxGqaaE"
      },
      "outputs": [],
      "source": [
        "import pandas as pd\n",
        "import numpy as np\n",
        "\n",
        "\n",
        "df = pd.read_csv('https://raw.githubusercontent.com/CunyLaguardiaDataAnalytics/datasets/master/2014-15_To_2016-17_School-_Level_NYC_Regents_Report_For_All_Variables.csv')"
      ]
    },
    {
      "cell_type": "code",
      "execution_count": null,
      "metadata": {
        "colab": {
          "base_uri": "https://localhost:8080/"
        },
        "id": "CofK-d5JrGMu",
        "outputId": "bbe45880-6d35-4c0d-9a66-1da266cd5932"
      },
      "outputs": [
        {
          "data": {
            "text/plain": [
              "Index(['School DBN', 'School Name', 'School Level', 'Regents Exam', 'Year',\n",
              "       'Total Tested', 'Mean Score', 'Number Scoring Below 65',\n",
              "       'Percent Scoring Below 65', 'Number Scoring 65 or Above',\n",
              "       'Percent Scoring 65 or Above', 'Number Scoring 80 or Above',\n",
              "       'Percent Scoring 80 or Above', 'Number Scoring CR',\n",
              "       'Percent Scoring CR'],\n",
              "      dtype='object')"
            ]
          },
          "execution_count": 30,
          "metadata": {},
          "output_type": "execute_result"
        }
      ],
      "source": [
        "df.columns"
      ]
    },
    {
      "cell_type": "code",
      "execution_count": null,
      "metadata": {
        "colab": {
          "base_uri": "https://localhost:8080/",
          "height": 867
        },
        "id": "qZkEjMM9s9kB",
        "outputId": "bbe56307-95af-4f9f-e501-4b2cb60668b9"
      },
      "outputs": [
        {
          "data": {
            "text/html": [
              "\n",
              "  <div id=\"df-eaa5bd9d-8ee0-454e-b172-e6d09975479b\">\n",
              "    <div class=\"colab-df-container\">\n",
              "      <div>\n",
              "<style scoped>\n",
              "    .dataframe tbody tr th:only-of-type {\n",
              "        vertical-align: middle;\n",
              "    }\n",
              "\n",
              "    .dataframe tbody tr th {\n",
              "        vertical-align: top;\n",
              "    }\n",
              "\n",
              "    .dataframe thead th {\n",
              "        text-align: right;\n",
              "    }\n",
              "</style>\n",
              "<table border=\"1\" class=\"dataframe\">\n",
              "  <thead>\n",
              "    <tr style=\"text-align: right;\">\n",
              "      <th></th>\n",
              "      <th>School DBN</th>\n",
              "      <th>School Name</th>\n",
              "      <th>School Level</th>\n",
              "      <th>Regents Exam</th>\n",
              "      <th>Year</th>\n",
              "      <th>Total Tested</th>\n",
              "      <th>Mean Score</th>\n",
              "      <th>Number Scoring Below 65</th>\n",
              "      <th>Percent Scoring Below 65</th>\n",
              "      <th>Number Scoring 65 or Above</th>\n",
              "      <th>Percent Scoring 65 or Above</th>\n",
              "      <th>Number Scoring 80 or Above</th>\n",
              "      <th>Percent Scoring 80 or Above</th>\n",
              "      <th>Number Scoring CR</th>\n",
              "      <th>Percent Scoring CR</th>\n",
              "    </tr>\n",
              "  </thead>\n",
              "  <tbody>\n",
              "    <tr>\n",
              "      <th>0</th>\n",
              "      <td>01M034</td>\n",
              "      <td>P.S. 034 Franklin D. Roosevelt</td>\n",
              "      <td>K-8</td>\n",
              "      <td>Common Core Algebra</td>\n",
              "      <td>2017</td>\n",
              "      <td>4</td>\n",
              "      <td>s</td>\n",
              "      <td>s</td>\n",
              "      <td>s</td>\n",
              "      <td>s</td>\n",
              "      <td>s</td>\n",
              "      <td>s</td>\n",
              "      <td>s</td>\n",
              "      <td>na</td>\n",
              "      <td>na</td>\n",
              "    </tr>\n",
              "    <tr>\n",
              "      <th>1</th>\n",
              "      <td>01M034</td>\n",
              "      <td>P.S. 034 Franklin D. Roosevelt</td>\n",
              "      <td>K-8</td>\n",
              "      <td>Living Environment</td>\n",
              "      <td>2015</td>\n",
              "      <td>16</td>\n",
              "      <td>77.9</td>\n",
              "      <td>1</td>\n",
              "      <td>6.3</td>\n",
              "      <td>15</td>\n",
              "      <td>93.8</td>\n",
              "      <td>7</td>\n",
              "      <td>43.8</td>\n",
              "      <td>na</td>\n",
              "      <td>na</td>\n",
              "    </tr>\n",
              "    <tr>\n",
              "      <th>2</th>\n",
              "      <td>01M034</td>\n",
              "      <td>P.S. 034 Franklin D. Roosevelt</td>\n",
              "      <td>K-8</td>\n",
              "      <td>Living Environment</td>\n",
              "      <td>2016</td>\n",
              "      <td>9</td>\n",
              "      <td>74</td>\n",
              "      <td>1</td>\n",
              "      <td>11.1</td>\n",
              "      <td>8</td>\n",
              "      <td>88.9</td>\n",
              "      <td>2</td>\n",
              "      <td>22.2</td>\n",
              "      <td>na</td>\n",
              "      <td>na</td>\n",
              "    </tr>\n",
              "    <tr>\n",
              "      <th>3</th>\n",
              "      <td>01M140</td>\n",
              "      <td>P.S. 140 Nathan Straus</td>\n",
              "      <td>K-8</td>\n",
              "      <td>Common Core Algebra</td>\n",
              "      <td>2016</td>\n",
              "      <td>3</td>\n",
              "      <td>s</td>\n",
              "      <td>s</td>\n",
              "      <td>s</td>\n",
              "      <td>s</td>\n",
              "      <td>s</td>\n",
              "      <td>s</td>\n",
              "      <td>s</td>\n",
              "      <td>na</td>\n",
              "      <td>na</td>\n",
              "    </tr>\n",
              "    <tr>\n",
              "      <th>4</th>\n",
              "      <td>01M140</td>\n",
              "      <td>P.S. 140 Nathan Straus</td>\n",
              "      <td>K-8</td>\n",
              "      <td>Common Core Algebra</td>\n",
              "      <td>2017</td>\n",
              "      <td>2</td>\n",
              "      <td>s</td>\n",
              "      <td>s</td>\n",
              "      <td>s</td>\n",
              "      <td>s</td>\n",
              "      <td>s</td>\n",
              "      <td>s</td>\n",
              "      <td>s</td>\n",
              "      <td>na</td>\n",
              "      <td>na</td>\n",
              "    </tr>\n",
              "    <tr>\n",
              "      <th>...</th>\n",
              "      <td>...</td>\n",
              "      <td>...</td>\n",
              "      <td>...</td>\n",
              "      <td>...</td>\n",
              "      <td>...</td>\n",
              "      <td>...</td>\n",
              "      <td>...</td>\n",
              "      <td>...</td>\n",
              "      <td>...</td>\n",
              "      <td>...</td>\n",
              "      <td>...</td>\n",
              "      <td>...</td>\n",
              "      <td>...</td>\n",
              "      <td>...</td>\n",
              "      <td>...</td>\n",
              "    </tr>\n",
              "    <tr>\n",
              "      <th>212326</th>\n",
              "      <td>84X717</td>\n",
              "      <td>Icahn Charter School</td>\n",
              "      <td>K-8</td>\n",
              "      <td>Living Environment</td>\n",
              "      <td>2016</td>\n",
              "      <td>8</td>\n",
              "      <td>s</td>\n",
              "      <td>s</td>\n",
              "      <td>s</td>\n",
              "      <td>s</td>\n",
              "      <td>s</td>\n",
              "      <td>s</td>\n",
              "      <td>s</td>\n",
              "      <td>na</td>\n",
              "      <td>na</td>\n",
              "    </tr>\n",
              "    <tr>\n",
              "      <th>212327</th>\n",
              "      <td>84X717</td>\n",
              "      <td>Icahn Charter School</td>\n",
              "      <td>K-8</td>\n",
              "      <td>Living Environment</td>\n",
              "      <td>2016</td>\n",
              "      <td>5</td>\n",
              "      <td>s</td>\n",
              "      <td>s</td>\n",
              "      <td>s</td>\n",
              "      <td>s</td>\n",
              "      <td>s</td>\n",
              "      <td>s</td>\n",
              "      <td>s</td>\n",
              "      <td>na</td>\n",
              "      <td>na</td>\n",
              "    </tr>\n",
              "    <tr>\n",
              "      <th>212328</th>\n",
              "      <td>84X717</td>\n",
              "      <td>Icahn Charter School</td>\n",
              "      <td>K-8</td>\n",
              "      <td>Living Environment</td>\n",
              "      <td>2017</td>\n",
              "      <td>6</td>\n",
              "      <td>s</td>\n",
              "      <td>s</td>\n",
              "      <td>s</td>\n",
              "      <td>s</td>\n",
              "      <td>s</td>\n",
              "      <td>s</td>\n",
              "      <td>s</td>\n",
              "      <td>na</td>\n",
              "      <td>na</td>\n",
              "    </tr>\n",
              "    <tr>\n",
              "      <th>212329</th>\n",
              "      <td>84X717</td>\n",
              "      <td>Icahn Charter School</td>\n",
              "      <td>K-8</td>\n",
              "      <td>Living Environment</td>\n",
              "      <td>2017</td>\n",
              "      <td>4</td>\n",
              "      <td>s</td>\n",
              "      <td>s</td>\n",
              "      <td>s</td>\n",
              "      <td>s</td>\n",
              "      <td>s</td>\n",
              "      <td>s</td>\n",
              "      <td>s</td>\n",
              "      <td>na</td>\n",
              "      <td>na</td>\n",
              "    </tr>\n",
              "    <tr>\n",
              "      <th>212330</th>\n",
              "      <td>84X717</td>\n",
              "      <td>Icahn Charter School</td>\n",
              "      <td>K-8</td>\n",
              "      <td>U.S. History and Government</td>\n",
              "      <td>2015</td>\n",
              "      <td>1</td>\n",
              "      <td>s</td>\n",
              "      <td>s</td>\n",
              "      <td>s</td>\n",
              "      <td>s</td>\n",
              "      <td>s</td>\n",
              "      <td>s</td>\n",
              "      <td>s</td>\n",
              "      <td>na</td>\n",
              "      <td>na</td>\n",
              "    </tr>\n",
              "  </tbody>\n",
              "</table>\n",
              "<p>212331 rows × 15 columns</p>\n",
              "</div>\n",
              "      <button class=\"colab-df-convert\" onclick=\"convertToInteractive('df-eaa5bd9d-8ee0-454e-b172-e6d09975479b')\"\n",
              "              title=\"Convert this dataframe to an interactive table.\"\n",
              "              style=\"display:none;\">\n",
              "        \n",
              "  <svg xmlns=\"http://www.w3.org/2000/svg\" height=\"24px\"viewBox=\"0 0 24 24\"\n",
              "       width=\"24px\">\n",
              "    <path d=\"M0 0h24v24H0V0z\" fill=\"none\"/>\n",
              "    <path d=\"M18.56 5.44l.94 2.06.94-2.06 2.06-.94-2.06-.94-.94-2.06-.94 2.06-2.06.94zm-11 1L8.5 8.5l.94-2.06 2.06-.94-2.06-.94L8.5 2.5l-.94 2.06-2.06.94zm10 10l.94 2.06.94-2.06 2.06-.94-2.06-.94-.94-2.06-.94 2.06-2.06.94z\"/><path d=\"M17.41 7.96l-1.37-1.37c-.4-.4-.92-.59-1.43-.59-.52 0-1.04.2-1.43.59L10.3 9.45l-7.72 7.72c-.78.78-.78 2.05 0 2.83L4 21.41c.39.39.9.59 1.41.59.51 0 1.02-.2 1.41-.59l7.78-7.78 2.81-2.81c.8-.78.8-2.07 0-2.86zM5.41 20L4 18.59l7.72-7.72 1.47 1.35L5.41 20z\"/>\n",
              "  </svg>\n",
              "      </button>\n",
              "      \n",
              "  <style>\n",
              "    .colab-df-container {\n",
              "      display:flex;\n",
              "      flex-wrap:wrap;\n",
              "      gap: 12px;\n",
              "    }\n",
              "\n",
              "    .colab-df-convert {\n",
              "      background-color: #E8F0FE;\n",
              "      border: none;\n",
              "      border-radius: 50%;\n",
              "      cursor: pointer;\n",
              "      display: none;\n",
              "      fill: #1967D2;\n",
              "      height: 32px;\n",
              "      padding: 0 0 0 0;\n",
              "      width: 32px;\n",
              "    }\n",
              "\n",
              "    .colab-df-convert:hover {\n",
              "      background-color: #E2EBFA;\n",
              "      box-shadow: 0px 1px 2px rgba(60, 64, 67, 0.3), 0px 1px 3px 1px rgba(60, 64, 67, 0.15);\n",
              "      fill: #174EA6;\n",
              "    }\n",
              "\n",
              "    [theme=dark] .colab-df-convert {\n",
              "      background-color: #3B4455;\n",
              "      fill: #D2E3FC;\n",
              "    }\n",
              "\n",
              "    [theme=dark] .colab-df-convert:hover {\n",
              "      background-color: #434B5C;\n",
              "      box-shadow: 0px 1px 3px 1px rgba(0, 0, 0, 0.15);\n",
              "      filter: drop-shadow(0px 1px 2px rgba(0, 0, 0, 0.3));\n",
              "      fill: #FFFFFF;\n",
              "    }\n",
              "  </style>\n",
              "\n",
              "      <script>\n",
              "        const buttonEl =\n",
              "          document.querySelector('#df-eaa5bd9d-8ee0-454e-b172-e6d09975479b button.colab-df-convert');\n",
              "        buttonEl.style.display =\n",
              "          google.colab.kernel.accessAllowed ? 'block' : 'none';\n",
              "\n",
              "        async function convertToInteractive(key) {\n",
              "          const element = document.querySelector('#df-eaa5bd9d-8ee0-454e-b172-e6d09975479b');\n",
              "          const dataTable =\n",
              "            await google.colab.kernel.invokeFunction('convertToInteractive',\n",
              "                                                     [key], {});\n",
              "          if (!dataTable) return;\n",
              "\n",
              "          const docLinkHtml = 'Like what you see? Visit the ' +\n",
              "            '<a target=\"_blank\" href=https://colab.research.google.com/notebooks/data_table.ipynb>data table notebook</a>'\n",
              "            + ' to learn more about interactive tables.';\n",
              "          element.innerHTML = '';\n",
              "          dataTable['output_type'] = 'display_data';\n",
              "          await google.colab.output.renderOutput(dataTable, element);\n",
              "          const docLink = document.createElement('div');\n",
              "          docLink.innerHTML = docLinkHtml;\n",
              "          element.appendChild(docLink);\n",
              "        }\n",
              "      </script>\n",
              "    </div>\n",
              "  </div>\n",
              "  "
            ],
            "text/plain": [
              "       School DBN  ... Percent Scoring CR\n",
              "0          01M034  ...                 na\n",
              "1          01M034  ...                 na\n",
              "2          01M034  ...                 na\n",
              "3          01M140  ...                 na\n",
              "4          01M140  ...                 na\n",
              "...           ...  ...                ...\n",
              "212326     84X717  ...                 na\n",
              "212327     84X717  ...                 na\n",
              "212328     84X717  ...                 na\n",
              "212329     84X717  ...                 na\n",
              "212330     84X717  ...                 na\n",
              "\n",
              "[212331 rows x 15 columns]"
            ]
          },
          "execution_count": 31,
          "metadata": {},
          "output_type": "execute_result"
        }
      ],
      "source": [
        "df"
      ]
    },
    {
      "cell_type": "markdown",
      "metadata": {
        "id": "FkPxVg_f238L"
      },
      "source": [
        "**The information of every school level in New York State regents exam results. The total Mean Score in some schools use \"S\" replaced the number tested score less than 5.**"
      ]
    },
    {
      "cell_type": "code",
      "execution_count": null,
      "metadata": {
        "colab": {
          "base_uri": "https://localhost:8080/",
          "height": 300
        },
        "id": "aARUNlV2zzNH",
        "outputId": "7000e727-28e1-4513-f7dc-fd5786451429"
      },
      "outputs": [
        {
          "data": {
            "text/html": [
              "\n",
              "  <div id=\"df-fde1eae5-d33e-45c7-9c8d-b897666db34f\">\n",
              "    <div class=\"colab-df-container\">\n",
              "      <div>\n",
              "<style scoped>\n",
              "    .dataframe tbody tr th:only-of-type {\n",
              "        vertical-align: middle;\n",
              "    }\n",
              "\n",
              "    .dataframe tbody tr th {\n",
              "        vertical-align: top;\n",
              "    }\n",
              "\n",
              "    .dataframe thead th {\n",
              "        text-align: right;\n",
              "    }\n",
              "</style>\n",
              "<table border=\"1\" class=\"dataframe\">\n",
              "  <thead>\n",
              "    <tr style=\"text-align: right;\">\n",
              "      <th></th>\n",
              "      <th>Year</th>\n",
              "      <th>Total Tested</th>\n",
              "    </tr>\n",
              "  </thead>\n",
              "  <tbody>\n",
              "    <tr>\n",
              "      <th>count</th>\n",
              "      <td>212331.000000</td>\n",
              "      <td>212331.000000</td>\n",
              "    </tr>\n",
              "    <tr>\n",
              "      <th>mean</th>\n",
              "      <td>2015.956069</td>\n",
              "      <td>49.364200</td>\n",
              "    </tr>\n",
              "    <tr>\n",
              "      <th>std</th>\n",
              "      <td>0.799726</td>\n",
              "      <td>93.023576</td>\n",
              "    </tr>\n",
              "    <tr>\n",
              "      <th>min</th>\n",
              "      <td>2015.000000</td>\n",
              "      <td>1.000000</td>\n",
              "    </tr>\n",
              "    <tr>\n",
              "      <th>25%</th>\n",
              "      <td>2015.000000</td>\n",
              "      <td>5.000000</td>\n",
              "    </tr>\n",
              "    <tr>\n",
              "      <th>50%</th>\n",
              "      <td>2016.000000</td>\n",
              "      <td>20.000000</td>\n",
              "    </tr>\n",
              "    <tr>\n",
              "      <th>75%</th>\n",
              "      <td>2017.000000</td>\n",
              "      <td>57.000000</td>\n",
              "    </tr>\n",
              "    <tr>\n",
              "      <th>max</th>\n",
              "      <td>2017.000000</td>\n",
              "      <td>1729.000000</td>\n",
              "    </tr>\n",
              "  </tbody>\n",
              "</table>\n",
              "</div>\n",
              "      <button class=\"colab-df-convert\" onclick=\"convertToInteractive('df-fde1eae5-d33e-45c7-9c8d-b897666db34f')\"\n",
              "              title=\"Convert this dataframe to an interactive table.\"\n",
              "              style=\"display:none;\">\n",
              "        \n",
              "  <svg xmlns=\"http://www.w3.org/2000/svg\" height=\"24px\"viewBox=\"0 0 24 24\"\n",
              "       width=\"24px\">\n",
              "    <path d=\"M0 0h24v24H0V0z\" fill=\"none\"/>\n",
              "    <path d=\"M18.56 5.44l.94 2.06.94-2.06 2.06-.94-2.06-.94-.94-2.06-.94 2.06-2.06.94zm-11 1L8.5 8.5l.94-2.06 2.06-.94-2.06-.94L8.5 2.5l-.94 2.06-2.06.94zm10 10l.94 2.06.94-2.06 2.06-.94-2.06-.94-.94-2.06-.94 2.06-2.06.94z\"/><path d=\"M17.41 7.96l-1.37-1.37c-.4-.4-.92-.59-1.43-.59-.52 0-1.04.2-1.43.59L10.3 9.45l-7.72 7.72c-.78.78-.78 2.05 0 2.83L4 21.41c.39.39.9.59 1.41.59.51 0 1.02-.2 1.41-.59l7.78-7.78 2.81-2.81c.8-.78.8-2.07 0-2.86zM5.41 20L4 18.59l7.72-7.72 1.47 1.35L5.41 20z\"/>\n",
              "  </svg>\n",
              "      </button>\n",
              "      \n",
              "  <style>\n",
              "    .colab-df-container {\n",
              "      display:flex;\n",
              "      flex-wrap:wrap;\n",
              "      gap: 12px;\n",
              "    }\n",
              "\n",
              "    .colab-df-convert {\n",
              "      background-color: #E8F0FE;\n",
              "      border: none;\n",
              "      border-radius: 50%;\n",
              "      cursor: pointer;\n",
              "      display: none;\n",
              "      fill: #1967D2;\n",
              "      height: 32px;\n",
              "      padding: 0 0 0 0;\n",
              "      width: 32px;\n",
              "    }\n",
              "\n",
              "    .colab-df-convert:hover {\n",
              "      background-color: #E2EBFA;\n",
              "      box-shadow: 0px 1px 2px rgba(60, 64, 67, 0.3), 0px 1px 3px 1px rgba(60, 64, 67, 0.15);\n",
              "      fill: #174EA6;\n",
              "    }\n",
              "\n",
              "    [theme=dark] .colab-df-convert {\n",
              "      background-color: #3B4455;\n",
              "      fill: #D2E3FC;\n",
              "    }\n",
              "\n",
              "    [theme=dark] .colab-df-convert:hover {\n",
              "      background-color: #434B5C;\n",
              "      box-shadow: 0px 1px 3px 1px rgba(0, 0, 0, 0.15);\n",
              "      filter: drop-shadow(0px 1px 2px rgba(0, 0, 0, 0.3));\n",
              "      fill: #FFFFFF;\n",
              "    }\n",
              "  </style>\n",
              "\n",
              "      <script>\n",
              "        const buttonEl =\n",
              "          document.querySelector('#df-fde1eae5-d33e-45c7-9c8d-b897666db34f button.colab-df-convert');\n",
              "        buttonEl.style.display =\n",
              "          google.colab.kernel.accessAllowed ? 'block' : 'none';\n",
              "\n",
              "        async function convertToInteractive(key) {\n",
              "          const element = document.querySelector('#df-fde1eae5-d33e-45c7-9c8d-b897666db34f');\n",
              "          const dataTable =\n",
              "            await google.colab.kernel.invokeFunction('convertToInteractive',\n",
              "                                                     [key], {});\n",
              "          if (!dataTable) return;\n",
              "\n",
              "          const docLinkHtml = 'Like what you see? Visit the ' +\n",
              "            '<a target=\"_blank\" href=https://colab.research.google.com/notebooks/data_table.ipynb>data table notebook</a>'\n",
              "            + ' to learn more about interactive tables.';\n",
              "          element.innerHTML = '';\n",
              "          dataTable['output_type'] = 'display_data';\n",
              "          await google.colab.output.renderOutput(dataTable, element);\n",
              "          const docLink = document.createElement('div');\n",
              "          docLink.innerHTML = docLinkHtml;\n",
              "          element.appendChild(docLink);\n",
              "        }\n",
              "      </script>\n",
              "    </div>\n",
              "  </div>\n",
              "  "
            ],
            "text/plain": [
              "                Year   Total Tested\n",
              "count  212331.000000  212331.000000\n",
              "mean     2015.956069      49.364200\n",
              "std         0.799726      93.023576\n",
              "min      2015.000000       1.000000\n",
              "25%      2015.000000       5.000000\n",
              "50%      2016.000000      20.000000\n",
              "75%      2017.000000      57.000000\n",
              "max      2017.000000    1729.000000"
            ]
          },
          "execution_count": 32,
          "metadata": {},
          "output_type": "execute_result"
        }
      ],
      "source": [
        "df.describe()"
      ]
    },
    {
      "cell_type": "code",
      "execution_count": null,
      "metadata": {
        "colab": {
          "background_save": true
        },
        "id": "OMdWTOt0BC9K",
        "outputId": "e8ff670f-a868-4244-9134-5ea19cafa242"
      },
      "outputs": [
        {
          "data": {
            "text/plain": [
              "Year            2015.956069\n",
              "Total Tested      49.364200\n",
              "dtype: float64"
            ]
          },
          "execution_count": null,
          "metadata": {},
          "output_type": "execute_result"
        }
      ],
      "source": [
        "df.mean()"
      ]
    },
    {
      "cell_type": "code",
      "execution_count": 59,
      "metadata": {
        "id": "q6FaQehXtCXT",
        "colab": {
          "base_uri": "https://localhost:8080/"
        },
        "outputId": "25d1d445-1cdc-4ee6-a9f5-86b68b644026"
      },
      "outputs": [
        {
          "output_type": "execute_result",
          "data": {
            "text/plain": [
              "School DBN                                                      84X717\n",
              "School Name                    Young Women's Leadership School, Queens\n",
              "School Level                                          Secondary School\n",
              "Year                                                              2017\n",
              "Total Tested                                                      1729\n",
              "Mean Score                                                           s\n",
              "Number Scoring Below 65                                              s\n",
              "Percent Scoring Below 65                                             s\n",
              "Number Scoring 65 or Above                                           s\n",
              "Percent Scoring 65 or Above                                          s\n",
              "Number Scoring 80 or Above                                           s\n",
              "Percent Scoring 80 or Above                                          s\n",
              "Number Scoring CR                                                   na\n",
              "Percent Scoring CR                                                  na\n",
              "dtype: object"
            ]
          },
          "metadata": {},
          "execution_count": 59
        }
      ],
      "source": [
        "df.max()"
      ]
    },
    {
      "cell_type": "code",
      "execution_count": 58,
      "metadata": {
        "id": "qK46P8c95TGY",
        "colab": {
          "base_uri": "https://localhost:8080/"
        },
        "outputId": "3575adc9-2318-4890-e515-c844ca21b1c1"
      },
      "outputs": [
        {
          "output_type": "execute_result",
          "data": {
            "text/plain": [
              "School DBN                                                                01M034\n",
              "School Name                    47 The American Sign Language and English Seco...\n",
              "School Level                                                          Elementary\n",
              "Year                                                                        2015\n",
              "Total Tested                                                                   1\n",
              "Mean Score                                                                    15\n",
              "Number Scoring Below 65                                                        0\n",
              "Percent Scoring Below 65                                                       0\n",
              "Number Scoring 65 or Above                                                     0\n",
              "Percent Scoring 65 or Above                                                    0\n",
              "Number Scoring 80 or Above                                                     0\n",
              "Percent Scoring 80 or Above                                                    0\n",
              "Number Scoring CR                                                              0\n",
              "Percent Scoring CR                                                             0\n",
              "dtype: object"
            ]
          },
          "metadata": {},
          "execution_count": 58
        }
      ],
      "source": [
        "df.min()"
      ]
    },
    {
      "cell_type": "code",
      "source": [
        "df.groupby(['Regents Exam'])['School Name'].max()"
      ],
      "metadata": {
        "colab": {
          "base_uri": "https://localhost:8080/"
        },
        "id": "kVzHnmLjM8nf",
        "outputId": "5a3ecc37-bc8d-4a94-a842-3dafc633ebe3"
      },
      "execution_count": 94,
      "outputs": [
        {
          "output_type": "execute_result",
          "data": {
            "text/plain": [
              "Regents Exam\n",
              "Algebra2/Trigonometry               Young Women's Leadership School, Queens\n",
              "Common Core Algebra                 Young Women's Leadership School, Queens\n",
              "Common Core Algebra2                Young Women's Leadership School, Queens\n",
              "Common Core English                 Young Women's Leadership School, Queens\n",
              "Common Core Geometry                Young Women's Leadership School, Queens\n",
              "English                             Young Women's Leadership School, Queens\n",
              "Geometry                            Young Women's Leadership School, Queens\n",
              "Global History and Geography        Young Women's Leadership School, Queens\n",
              "Integrated Algebra                  Young Women's Leadership School, Queens\n",
              "Living Environment                  Young Women's Leadership School, Queens\n",
              "Physical Settings/Chemistry         Young Women's Leadership School, Queens\n",
              "Physical Settings/Earth Science     Young Women's Leadership School, Queens\n",
              "Physical Settings/Physics          Young Women's Leadership School, Astoria\n",
              "U.S. History and Government         Young Women's Leadership School, Queens\n",
              "Name: School Name, dtype: object"
            ]
          },
          "metadata": {},
          "execution_count": 94
        }
      ]
    },
    {
      "cell_type": "code",
      "source": [
        "df.groupby(['Regents Exam'])['School Name'].min()"
      ],
      "metadata": {
        "colab": {
          "base_uri": "https://localhost:8080/"
        },
        "id": "kyQ9Lw3zN7Fj",
        "outputId": "e0cd3fc6-6cc3-402b-9464-a58609465544"
      },
      "execution_count": 95,
      "outputs": [
        {
          "output_type": "execute_result",
          "data": {
            "text/plain": [
              "Regents Exam\n",
              "Algebra2/Trigonometry              47 The American Sign Language and English Seco...\n",
              "Common Core Algebra                47 The American Sign Language and English Seco...\n",
              "Common Core Algebra2               47 The American Sign Language and English Seco...\n",
              "Common Core English                47 The American Sign Language and English Seco...\n",
              "Common Core Geometry               47 The American Sign Language and English Seco...\n",
              "English                            47 The American Sign Language and English Seco...\n",
              "Geometry                           47 The American Sign Language and English Seco...\n",
              "Global History and Geography       47 The American Sign Language and English Seco...\n",
              "Integrated Algebra                 47 The American Sign Language and English Seco...\n",
              "Living Environment                 47 The American Sign Language and English Seco...\n",
              "Physical Settings/Chemistry                    A. Philip Randolph Campus High School\n",
              "Physical Settings/Earth Science    47 The American Sign Language and English Seco...\n",
              "Physical Settings/Physics          47 The American Sign Language and English Seco...\n",
              "U.S. History and Government        47 The American Sign Language and English Seco...\n",
              "Name: School Name, dtype: object"
            ]
          },
          "metadata": {},
          "execution_count": 95
        }
      ]
    },
    {
      "cell_type": "markdown",
      "metadata": {
        "id": "38SSI7tjwVR7"
      },
      "source": [
        "**The student exams score total is 212,331. In 2015, the average student's exam score is 49.36. The report shows Young Women's Leadership School Secondary school in Queens regent has the highest total regents exam and the total tested number as 1,729 and The American Sign Language and English Secondary, Elementary school level has the lowest regents exam and the total tested number as 1 in the year 2015.**"
      ]
    },
    {
      "cell_type": "code",
      "execution_count": null,
      "metadata": {
        "id": "NJXSw19NAULD"
      },
      "outputs": [],
      "source": [
        "import matplotlib.pyplot as plt\n",
        "%matplotlib inline "
      ]
    },
    {
      "cell_type": "code",
      "source": [
        "df.plot(kind=\"scatter\", x = 'Total Tested', y= 'School Level')"
      ],
      "metadata": {
        "colab": {
          "base_uri": "https://localhost:8080/",
          "height": 297
        },
        "id": "2_W9pUzBF1Ws",
        "outputId": "9a3230eb-fd88-473b-cbf7-ca3c62d9424a"
      },
      "execution_count": 69,
      "outputs": [
        {
          "output_type": "execute_result",
          "data": {
            "text/plain": [
              "<matplotlib.axes._subplots.AxesSubplot at 0x7f595f555d90>"
            ]
          },
          "metadata": {},
          "execution_count": 69
        },
        {
          "output_type": "display_data",
          "data": {
            "image/png": "[encoded data removed]",
            "text/plain": [
              "<Figure size 432x288 with 1 Axes>"
            ]
          },
          "metadata": {
            "needs_background": "light"
          }
        }
      ]
    },
    {
      "cell_type": "markdown",
      "source": [
        "**The scatter report shows the amount of total tested from the school level. High school has the highest total tested around 1,750. K-8 school level has less than 250 of total tested.**"
      ],
      "metadata": {
        "id": "gvO6L598HOPT"
      }
    },
    {
      "cell_type": "code",
      "source": [
        "import seaborn as sns"
      ],
      "metadata": {
        "id": "NB77OArKOXS9"
      },
      "execution_count": 98,
      "outputs": []
    },
    {
      "cell_type": "code",
      "source": [
        "sns.barplot(x='Year',y='Total Tested', data = df)"
      ],
      "metadata": {
        "colab": {
          "base_uri": "https://localhost:8080/",
          "height": 297
        },
        "id": "Ss1Cuo1-OkJP",
        "outputId": "7e80a9a8-bb28-4a11-f59d-3139e929a2d4"
      },
      "execution_count": 99,
      "outputs": [
        {
          "output_type": "execute_result",
          "data": {
            "text/plain": [
              "<matplotlib.axes._subplots.AxesSubplot at 0x7f59482cca90>"
            ]
          },
          "metadata": {},
          "execution_count": 99
        },
        {
          "output_type": "display_data",
          "data": {
            "image/png": "[encoded data removed]",
            "text/plain": [
              "<Figure size 432x288 with 1 Axes>"
            ]
          },
          "metadata": {
            "needs_background": "light"
          }
        }
      ]
    },
    {
      "cell_type": "markdown",
      "source": [
        "**The Bar chart shows the level of total tested in each year. In 2016, the total tested is lower than in 2015 and 2017.**"
      ],
      "metadata": {
        "id": "L01L3Ox2RsU-"
      }
    },
    {
      "cell_type": "code",
      "source": [
        "df.groupby(['Regents Exam'])['Total Tested'].count().sort_values(ascending=True).plot(kind='bar')"
      ],
      "metadata": {
        "colab": {
          "base_uri": "https://localhost:8080/",
          "height": 443
        },
        "id": "mGYniutpHyw1",
        "outputId": "1bd1140a-4858-4a32-b673-0ff836f9118d"
      },
      "execution_count": 78,
      "outputs": [
        {
          "output_type": "execute_result",
          "data": {
            "text/plain": [
              "<matplotlib.axes._subplots.AxesSubplot at 0x7f595aa3edd0>"
            ]
          },
          "metadata": {},
          "execution_count": 78
        },
        {
          "output_type": "display_data",
          "data": {
            "image/png": "[encoded data removed]",
            "text/plain": [
              "<Figure size 432x288 with 1 Axes>"
            ]
          },
          "metadata": {
            "needs_background": "light"
          }
        }
      ]
    },
    {
      "cell_type": "markdown",
      "source": [
        "**From this bar chart result, Common Core Algebra is the highest total tested in the regents exam. The second one is Living Environment and the lowest of regents exam in Physical Setting/Physics which around 6,000 of the total tested.**"
      ],
      "metadata": {
        "id": "8thDJ44eSRhO"
      }
    },
    {
      "cell_type": "markdown",
      "source": [
        "**In conclusion, Young Women's Leadership School has the most total tested asof 1,729, and The American Sign Language and English Second have the lowest total tested score as 1 in the year 2015. The report has shown High School level has the most tested from other school levels to 1,750 tested and K-8 is lower than 250 tested. The first range of regents exams of total tested is Common Core Algebra, the second one is Living Environment, and the third one is U.S.History and Government. The lowest regents exam that students took a test is Physical Setting/Physics which is around only 6,000 tested if to compare with other regents exams.**"
      ],
      "metadata": {
        "id": "GZWkPmK5T6G1"
      }
    }
  ],
  "metadata": {
    "colab": {
      "name": "Python Project 1.ipynb",
      "provenance": [],
      "authorship_tag": "ABX9TyO5VbD0ALCyJhCs5NOtEAI2",
      "include_colab_link": true
    },
    "kernelspec": {
      "display_name": "Python 3",
      "name": "python3"
    },
    "language_info": {
      "name": "python"
    }
  },
  "nbformat": 4,
  "nbformat_minor": 0
}