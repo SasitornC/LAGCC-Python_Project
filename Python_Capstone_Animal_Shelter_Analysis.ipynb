{
  "nbformat": 4,
  "nbformat_minor": 0,
  "metadata": {
    "colab": {
      "name": "Animal Shelter Analysis_ Python Capstone.ipynb",
      "provenance": [],
      "collapsed_sections": [],
      "authorship_tag": "ABX9TyPvmcKGuEz83+UST6UNuK01",
      "include_colab_link": true
    },
    "kernelspec": {
      "name": "python3",
      "display_name": "Python 3"
    },
    "language_info": {
      "name": "python"
    }
  },
  "cells": [
    {
      "cell_type": "markdown",
      "metadata": {
        "id": "view-in-github",
        "colab_type": "text"
      },
      "source": [
        "<a href=\"https://colab.research.google.com/github/SasitornC/LAGCC-Python_Project/blob/main/Python_Capstone_Animal_Shelter_Analysis.ipynb\" target=\"_parent\"><img src=\"https://colab.research.google.com/assets/colab-badge.svg\" alt=\"Open In Colab\"/></a>"
      ]
    },
    {
      "cell_type": "markdown",
      "source": [
        "# **Animal Shelter Analysis**"
      ],
      "metadata": {
        "id": "3R2oQpFF2J68"
      }
    },
    {
      "cell_type": "markdown",
      "source": [
        "# **Introduction**\n",
        "\n",
        "There are around 14,000 independent shelters and rescue groups of which have about 3,500 animals in the United States.(source:vimbuzz.com)\n",
        "\n",
        "\n",
        "This datasource, I found on Kaggle's website and the data was collected by Austin Animal Center. This analysis will tell how many animals intake to the Austin Animal Center each year and the data will provide analysis to the questions below:\n",
        "\n",
        "How many types of animal intake into the shelter? \n",
        "\n",
        "What are the causes to bring the animals into the shelter? \n",
        "\n",
        "Whart are the condition of animals when taken in?"
      ],
      "metadata": {
        "id": "TbrbADN7HlU2"
      }
    },
    {
      "cell_type": "code",
      "execution_count": null,
      "metadata": {
        "id": "_CaqMqGctrIK"
      },
      "outputs": [],
      "source": [
        "#Importing libries to execute in this data.\n",
        "import pandas as pd\n",
        "import matplotlib.pyplot as plt\n",
        "import numpy as np\n",
        "import seaborn as sns\n",
        "import datetime\n",
        "%matplotlib inline"
      ]
    },
    {
      "cell_type": "code",
      "source": [
        "#Import the data\n",
        "df = pd.read_csv('Austin_Animal_Center_Intakes.csv')\n",
        "df.head()"
      ],
      "metadata": {
        "colab": {
          "base_uri": "https://localhost:8080/",
          "height": 406
        },
        "id": "6BcSwhVattkX",
        "outputId": "9103e152-cc25-451d-f5b1-802866092320"
      },
      "execution_count": null,
      "outputs": [
        {
          "output_type": "execute_result",
          "data": {
            "text/html": [
              "\n",
              "  <div id=\"df-70e65b89-0e5c-4782-aa3d-ecd3501800d9\">\n",
              "    <div class=\"colab-df-container\">\n",
              "      <div>\n",
              "<style scoped>\n",
              "    .dataframe tbody tr th:only-of-type {\n",
              "        vertical-align: middle;\n",
              "    }\n",
              "\n",
              "    .dataframe tbody tr th {\n",
              "        vertical-align: top;\n",
              "    }\n",
              "\n",
              "    .dataframe thead th {\n",
              "        text-align: right;\n",
              "    }\n",
              "</style>\n",
              "<table border=\"1\" class=\"dataframe\">\n",
              "  <thead>\n",
              "    <tr style=\"text-align: right;\">\n",
              "      <th></th>\n",
              "      <th>Animal ID</th>\n",
              "      <th>Name</th>\n",
              "      <th>DateTime</th>\n",
              "      <th>MonthYear</th>\n",
              "      <th>Found Location</th>\n",
              "      <th>Intake Type</th>\n",
              "      <th>Intake Condition</th>\n",
              "      <th>Animal Type</th>\n",
              "      <th>Sex upon Intake</th>\n",
              "      <th>Age upon Intake</th>\n",
              "      <th>Breed</th>\n",
              "      <th>Color</th>\n",
              "    </tr>\n",
              "  </thead>\n",
              "  <tbody>\n",
              "    <tr>\n",
              "      <th>0</th>\n",
              "      <td>A786884</td>\n",
              "      <td>*Brock</td>\n",
              "      <td>01/03/2019 04:19:00 PM</td>\n",
              "      <td>01/03/2019 04:19:00 PM</td>\n",
              "      <td>2501 Magin Meadow Dr in Austin (TX)</td>\n",
              "      <td>Stray</td>\n",
              "      <td>Normal</td>\n",
              "      <td>Dog</td>\n",
              "      <td>Neutered Male</td>\n",
              "      <td>2 years</td>\n",
              "      <td>Beagle Mix</td>\n",
              "      <td>Tricolor</td>\n",
              "    </tr>\n",
              "    <tr>\n",
              "      <th>1</th>\n",
              "      <td>A706918</td>\n",
              "      <td>Belle</td>\n",
              "      <td>07/05/2015 12:59:00 PM</td>\n",
              "      <td>07/05/2015 12:59:00 PM</td>\n",
              "      <td>9409 Bluegrass Dr in Austin (TX)</td>\n",
              "      <td>Stray</td>\n",
              "      <td>Normal</td>\n",
              "      <td>Dog</td>\n",
              "      <td>Spayed Female</td>\n",
              "      <td>8 years</td>\n",
              "      <td>English Springer Spaniel</td>\n",
              "      <td>White/Liver</td>\n",
              "    </tr>\n",
              "    <tr>\n",
              "      <th>2</th>\n",
              "      <td>A724273</td>\n",
              "      <td>Runster</td>\n",
              "      <td>04/14/2016 06:43:00 PM</td>\n",
              "      <td>04/14/2016 06:43:00 PM</td>\n",
              "      <td>2818 Palomino Trail in Austin (TX)</td>\n",
              "      <td>Stray</td>\n",
              "      <td>Normal</td>\n",
              "      <td>Dog</td>\n",
              "      <td>Intact Male</td>\n",
              "      <td>11 months</td>\n",
              "      <td>Basenji Mix</td>\n",
              "      <td>Sable/White</td>\n",
              "    </tr>\n",
              "    <tr>\n",
              "      <th>3</th>\n",
              "      <td>A665644</td>\n",
              "      <td>NaN</td>\n",
              "      <td>10/21/2013 07:59:00 AM</td>\n",
              "      <td>10/21/2013 07:59:00 AM</td>\n",
              "      <td>Austin (TX)</td>\n",
              "      <td>Stray</td>\n",
              "      <td>Sick</td>\n",
              "      <td>Cat</td>\n",
              "      <td>Intact Female</td>\n",
              "      <td>4 weeks</td>\n",
              "      <td>Domestic Shorthair Mix</td>\n",
              "      <td>Calico</td>\n",
              "    </tr>\n",
              "    <tr>\n",
              "      <th>4</th>\n",
              "      <td>A682524</td>\n",
              "      <td>Rio</td>\n",
              "      <td>06/29/2014 10:38:00 AM</td>\n",
              "      <td>06/29/2014 10:38:00 AM</td>\n",
              "      <td>800 Grove Blvd in Austin (TX)</td>\n",
              "      <td>Stray</td>\n",
              "      <td>Normal</td>\n",
              "      <td>Dog</td>\n",
              "      <td>Neutered Male</td>\n",
              "      <td>4 years</td>\n",
              "      <td>Doberman Pinsch/Australian Cattle Dog</td>\n",
              "      <td>Tan/Gray</td>\n",
              "    </tr>\n",
              "  </tbody>\n",
              "</table>\n",
              "</div>\n",
              "      <button class=\"colab-df-convert\" onclick=\"convertToInteractive('df-70e65b89-0e5c-4782-aa3d-ecd3501800d9')\"\n",
              "              title=\"Convert this dataframe to an interactive table.\"\n",
              "              style=\"display:none;\">\n",
              "        \n",
              "  <svg xmlns=\"http://www.w3.org/2000/svg\" height=\"24px\"viewBox=\"0 0 24 24\"\n",
              "       width=\"24px\">\n",
              "    <path d=\"M0 0h24v24H0V0z\" fill=\"none\"/>\n",
              "    <path d=\"M18.56 5.44l.94 2.06.94-2.06 2.06-.94-2.06-.94-.94-2.06-.94 2.06-2.06.94zm-11 1L8.5 8.5l.94-2.06 2.06-.94-2.06-.94L8.5 2.5l-.94 2.06-2.06.94zm10 10l.94 2.06.94-2.06 2.06-.94-2.06-.94-.94-2.06-.94 2.06-2.06.94z\"/><path d=\"M17.41 7.96l-1.37-1.37c-.4-.4-.92-.59-1.43-.59-.52 0-1.04.2-1.43.59L10.3 9.45l-7.72 7.72c-.78.78-.78 2.05 0 2.83L4 21.41c.39.39.9.59 1.41.59.51 0 1.02-.2 1.41-.59l7.78-7.78 2.81-2.81c.8-.78.8-2.07 0-2.86zM5.41 20L4 18.59l7.72-7.72 1.47 1.35L5.41 20z\"/>\n",
              "  </svg>\n",
              "      </button>\n",
              "      \n",
              "  <style>\n",
              "    .colab-df-container {\n",
              "      display:flex;\n",
              "      flex-wrap:wrap;\n",
              "      gap: 12px;\n",
              "    }\n",
              "\n",
              "    .colab-df-convert {\n",
              "      background-color: #E8F0FE;\n",
              "      border: none;\n",
              "      border-radius: 50%;\n",
              "      cursor: pointer;\n",
              "      display: none;\n",
              "      fill: #1967D2;\n",
              "      height: 32px;\n",
              "      padding: 0 0 0 0;\n",
              "      width: 32px;\n",
              "    }\n",
              "\n",
              "    .colab-df-convert:hover {\n",
              "      background-color: #E2EBFA;\n",
              "      box-shadow: 0px 1px 2px rgba(60, 64, 67, 0.3), 0px 1px 3px 1px rgba(60, 64, 67, 0.15);\n",
              "      fill: #174EA6;\n",
              "    }\n",
              "\n",
              "    [theme=dark] .colab-df-convert {\n",
              "      background-color: #3B4455;\n",
              "      fill: #D2E3FC;\n",
              "    }\n",
              "\n",
              "    [theme=dark] .colab-df-convert:hover {\n",
              "      background-color: #434B5C;\n",
              "      box-shadow: 0px 1px 3px 1px rgba(0, 0, 0, 0.15);\n",
              "      filter: drop-shadow(0px 1px 2px rgba(0, 0, 0, 0.3));\n",
              "      fill: #FFFFFF;\n",
              "    }\n",
              "  </style>\n",
              "\n",
              "      <script>\n",
              "        const buttonEl =\n",
              "          document.querySelector('#df-70e65b89-0e5c-4782-aa3d-ecd3501800d9 button.colab-df-convert');\n",
              "        buttonEl.style.display =\n",
              "          google.colab.kernel.accessAllowed ? 'block' : 'none';\n",
              "\n",
              "        async function convertToInteractive(key) {\n",
              "          const element = document.querySelector('#df-70e65b89-0e5c-4782-aa3d-ecd3501800d9');\n",
              "          const dataTable =\n",
              "            await google.colab.kernel.invokeFunction('convertToInteractive',\n",
              "                                                     [key], {});\n",
              "          if (!dataTable) return;\n",
              "\n",
              "          const docLinkHtml = 'Like what you see? Visit the ' +\n",
              "            '<a target=\"_blank\" href=https://colab.research.google.com/notebooks/data_table.ipynb>data table notebook</a>'\n",
              "            + ' to learn more about interactive tables.';\n",
              "          element.innerHTML = '';\n",
              "          dataTable['output_type'] = 'display_data';\n",
              "          await google.colab.output.renderOutput(dataTable, element);\n",
              "          const docLink = document.createElement('div');\n",
              "          docLink.innerHTML = docLinkHtml;\n",
              "          element.appendChild(docLink);\n",
              "        }\n",
              "      </script>\n",
              "    </div>\n",
              "  </div>\n",
              "  "
            ],
            "text/plain": [
              "  Animal ID     Name  ...                                  Breed        Color\n",
              "0   A786884   *Brock  ...                             Beagle Mix     Tricolor\n",
              "1   A706918    Belle  ...               English Springer Spaniel  White/Liver\n",
              "2   A724273  Runster  ...                            Basenji Mix  Sable/White\n",
              "3   A665644      NaN  ...                 Domestic Shorthair Mix       Calico\n",
              "4   A682524      Rio  ...  Doberman Pinsch/Australian Cattle Dog     Tan/Gray\n",
              "\n",
              "[5 rows x 12 columns]"
            ]
          },
          "metadata": {},
          "execution_count": 120
        }
      ]
    },
    {
      "cell_type": "code",
      "source": [
        "#Renaming and replacing column names.\n",
        "df.rename(columns={\"Sex upon Intake\": \"Gender\",\"Age upon Intake\":\"Age\"})"
      ],
      "metadata": {
        "colab": {
          "base_uri": "https://localhost:8080/",
          "height": 780
        },
        "id": "n6EgeK5nqaY5",
        "outputId": "e1663af1-d3a1-4db5-e019-c0cae3564e65"
      },
      "execution_count": null,
      "outputs": [
        {
          "output_type": "execute_result",
          "data": {
            "text/html": [
              "\n",
              "  <div id=\"df-75a8151f-1928-4307-98a2-6bf584b80a51\">\n",
              "    <div class=\"colab-df-container\">\n",
              "      <div>\n",
              "<style scoped>\n",
              "    .dataframe tbody tr th:only-of-type {\n",
              "        vertical-align: middle;\n",
              "    }\n",
              "\n",
              "    .dataframe tbody tr th {\n",
              "        vertical-align: top;\n",
              "    }\n",
              "\n",
              "    .dataframe thead th {\n",
              "        text-align: right;\n",
              "    }\n",
              "</style>\n",
              "<table border=\"1\" class=\"dataframe\">\n",
              "  <thead>\n",
              "    <tr style=\"text-align: right;\">\n",
              "      <th></th>\n",
              "      <th>Animal ID</th>\n",
              "      <th>Name</th>\n",
              "      <th>DateTime</th>\n",
              "      <th>MonthYear</th>\n",
              "      <th>Found Location</th>\n",
              "      <th>Intake Type</th>\n",
              "      <th>Intake Condition</th>\n",
              "      <th>Animal Type</th>\n",
              "      <th>Gender</th>\n",
              "      <th>Age</th>\n",
              "      <th>Breed</th>\n",
              "      <th>Color</th>\n",
              "    </tr>\n",
              "  </thead>\n",
              "  <tbody>\n",
              "    <tr>\n",
              "      <th>0</th>\n",
              "      <td>A786884</td>\n",
              "      <td>*Brock</td>\n",
              "      <td>01/03/2019 04:19:00 PM</td>\n",
              "      <td>01/03/2019 04:19:00 PM</td>\n",
              "      <td>2501 Magin Meadow Dr in Austin (TX)</td>\n",
              "      <td>Stray</td>\n",
              "      <td>Normal</td>\n",
              "      <td>Dog</td>\n",
              "      <td>Neutered Male</td>\n",
              "      <td>2 years</td>\n",
              "      <td>Beagle Mix</td>\n",
              "      <td>Tricolor</td>\n",
              "    </tr>\n",
              "    <tr>\n",
              "      <th>1</th>\n",
              "      <td>A706918</td>\n",
              "      <td>Belle</td>\n",
              "      <td>07/05/2015 12:59:00 PM</td>\n",
              "      <td>07/05/2015 12:59:00 PM</td>\n",
              "      <td>9409 Bluegrass Dr in Austin (TX)</td>\n",
              "      <td>Stray</td>\n",
              "      <td>Normal</td>\n",
              "      <td>Dog</td>\n",
              "      <td>Spayed Female</td>\n",
              "      <td>8 years</td>\n",
              "      <td>English Springer Spaniel</td>\n",
              "      <td>White/Liver</td>\n",
              "    </tr>\n",
              "    <tr>\n",
              "      <th>2</th>\n",
              "      <td>A724273</td>\n",
              "      <td>Runster</td>\n",
              "      <td>04/14/2016 06:43:00 PM</td>\n",
              "      <td>04/14/2016 06:43:00 PM</td>\n",
              "      <td>2818 Palomino Trail in Austin (TX)</td>\n",
              "      <td>Stray</td>\n",
              "      <td>Normal</td>\n",
              "      <td>Dog</td>\n",
              "      <td>Intact Male</td>\n",
              "      <td>11 months</td>\n",
              "      <td>Basenji Mix</td>\n",
              "      <td>Sable/White</td>\n",
              "    </tr>\n",
              "    <tr>\n",
              "      <th>3</th>\n",
              "      <td>A665644</td>\n",
              "      <td>NaN</td>\n",
              "      <td>10/21/2013 07:59:00 AM</td>\n",
              "      <td>10/21/2013 07:59:00 AM</td>\n",
              "      <td>Austin (TX)</td>\n",
              "      <td>Stray</td>\n",
              "      <td>Sick</td>\n",
              "      <td>Cat</td>\n",
              "      <td>Intact Female</td>\n",
              "      <td>4 weeks</td>\n",
              "      <td>Domestic Shorthair Mix</td>\n",
              "      <td>Calico</td>\n",
              "    </tr>\n",
              "    <tr>\n",
              "      <th>4</th>\n",
              "      <td>A682524</td>\n",
              "      <td>Rio</td>\n",
              "      <td>06/29/2014 10:38:00 AM</td>\n",
              "      <td>06/29/2014 10:38:00 AM</td>\n",
              "      <td>800 Grove Blvd in Austin (TX)</td>\n",
              "      <td>Stray</td>\n",
              "      <td>Normal</td>\n",
              "      <td>Dog</td>\n",
              "      <td>Neutered Male</td>\n",
              "      <td>4 years</td>\n",
              "      <td>Doberman Pinsch/Australian Cattle Dog</td>\n",
              "      <td>Tan/Gray</td>\n",
              "    </tr>\n",
              "    <tr>\n",
              "      <th>...</th>\n",
              "      <td>...</td>\n",
              "      <td>...</td>\n",
              "      <td>...</td>\n",
              "      <td>...</td>\n",
              "      <td>...</td>\n",
              "      <td>...</td>\n",
              "      <td>...</td>\n",
              "      <td>...</td>\n",
              "      <td>...</td>\n",
              "      <td>...</td>\n",
              "      <td>...</td>\n",
              "      <td>...</td>\n",
              "    </tr>\n",
              "    <tr>\n",
              "      <th>124115</th>\n",
              "      <td>A828158</td>\n",
              "      <td>Odin</td>\n",
              "      <td>01/08/2021 07:01:00 PM</td>\n",
              "      <td>01/08/2021 07:01:00 PM</td>\n",
              "      <td>2224 E Stassney in Austin (TX)</td>\n",
              "      <td>Stray</td>\n",
              "      <td>Normal</td>\n",
              "      <td>Dog</td>\n",
              "      <td>Intact Male</td>\n",
              "      <td>10 months</td>\n",
              "      <td>Rottweiler Mix</td>\n",
              "      <td>Black/Tan</td>\n",
              "    </tr>\n",
              "    <tr>\n",
              "      <th>124116</th>\n",
              "      <td>A830183</td>\n",
              "      <td>NaN</td>\n",
              "      <td>03/03/2021 05:12:00 PM</td>\n",
              "      <td>03/03/2021 05:12:00 PM</td>\n",
              "      <td>6802 Bryonwood Drive in Austin (TX)</td>\n",
              "      <td>Stray</td>\n",
              "      <td>Medical</td>\n",
              "      <td>Dog</td>\n",
              "      <td>Intact Female</td>\n",
              "      <td>1 month</td>\n",
              "      <td>Chihuahua Shorthair</td>\n",
              "      <td>White</td>\n",
              "    </tr>\n",
              "    <tr>\n",
              "      <th>124117</th>\n",
              "      <td>A830180</td>\n",
              "      <td>Gigi</td>\n",
              "      <td>03/03/2021 04:31:00 PM</td>\n",
              "      <td>03/03/2021 04:31:00 PM</td>\n",
              "      <td>Austin (TX)</td>\n",
              "      <td>Owner Surrender</td>\n",
              "      <td>Normal</td>\n",
              "      <td>Dog</td>\n",
              "      <td>Intact Female</td>\n",
              "      <td>9 years</td>\n",
              "      <td>Australian Cattle Dog/Belgian Malinois</td>\n",
              "      <td>Brown Brindle/White</td>\n",
              "    </tr>\n",
              "    <tr>\n",
              "      <th>124118</th>\n",
              "      <td>A830171</td>\n",
              "      <td>NaN</td>\n",
              "      <td>03/03/2021 05:13:00 PM</td>\n",
              "      <td>03/03/2021 05:13:00 PM</td>\n",
              "      <td>1310 West Howard Lane in Austin (TX)</td>\n",
              "      <td>Stray</td>\n",
              "      <td>Normal</td>\n",
              "      <td>Dog</td>\n",
              "      <td>Intact Female</td>\n",
              "      <td>1 year</td>\n",
              "      <td>Plott Hound Mix</td>\n",
              "      <td>Brown Brindle/White</td>\n",
              "    </tr>\n",
              "    <tr>\n",
              "      <th>124119</th>\n",
              "      <td>A830181</td>\n",
              "      <td>Nona</td>\n",
              "      <td>03/03/2021 04:31:00 PM</td>\n",
              "      <td>03/03/2021 04:31:00 PM</td>\n",
              "      <td>Austin (TX)</td>\n",
              "      <td>Owner Surrender</td>\n",
              "      <td>Normal</td>\n",
              "      <td>Cat</td>\n",
              "      <td>Spayed Female</td>\n",
              "      <td>4 years</td>\n",
              "      <td>Domestic Shorthair Mix</td>\n",
              "      <td>White/Black</td>\n",
              "    </tr>\n",
              "  </tbody>\n",
              "</table>\n",
              "<p>124120 rows × 12 columns</p>\n",
              "</div>\n",
              "      <button class=\"colab-df-convert\" onclick=\"convertToInteractive('df-75a8151f-1928-4307-98a2-6bf584b80a51')\"\n",
              "              title=\"Convert this dataframe to an interactive table.\"\n",
              "              style=\"display:none;\">\n",
              "        \n",
              "  <svg xmlns=\"http://www.w3.org/2000/svg\" height=\"24px\"viewBox=\"0 0 24 24\"\n",
              "       width=\"24px\">\n",
              "    <path d=\"M0 0h24v24H0V0z\" fill=\"none\"/>\n",
              "    <path d=\"M18.56 5.44l.94 2.06.94-2.06 2.06-.94-2.06-.94-.94-2.06-.94 2.06-2.06.94zm-11 1L8.5 8.5l.94-2.06 2.06-.94-2.06-.94L8.5 2.5l-.94 2.06-2.06.94zm10 10l.94 2.06.94-2.06 2.06-.94-2.06-.94-.94-2.06-.94 2.06-2.06.94z\"/><path d=\"M17.41 7.96l-1.37-1.37c-.4-.4-.92-.59-1.43-.59-.52 0-1.04.2-1.43.59L10.3 9.45l-7.72 7.72c-.78.78-.78 2.05 0 2.83L4 21.41c.39.39.9.59 1.41.59.51 0 1.02-.2 1.41-.59l7.78-7.78 2.81-2.81c.8-.78.8-2.07 0-2.86zM5.41 20L4 18.59l7.72-7.72 1.47 1.35L5.41 20z\"/>\n",
              "  </svg>\n",
              "      </button>\n",
              "      \n",
              "  <style>\n",
              "    .colab-df-container {\n",
              "      display:flex;\n",
              "      flex-wrap:wrap;\n",
              "      gap: 12px;\n",
              "    }\n",
              "\n",
              "    .colab-df-convert {\n",
              "      background-color: #E8F0FE;\n",
              "      border: none;\n",
              "      border-radius: 50%;\n",
              "      cursor: pointer;\n",
              "      display: none;\n",
              "      fill: #1967D2;\n",
              "      height: 32px;\n",
              "      padding: 0 0 0 0;\n",
              "      width: 32px;\n",
              "    }\n",
              "\n",
              "    .colab-df-convert:hover {\n",
              "      background-color: #E2EBFA;\n",
              "      box-shadow: 0px 1px 2px rgba(60, 64, 67, 0.3), 0px 1px 3px 1px rgba(60, 64, 67, 0.15);\n",
              "      fill: #174EA6;\n",
              "    }\n",
              "\n",
              "    [theme=dark] .colab-df-convert {\n",
              "      background-color: #3B4455;\n",
              "      fill: #D2E3FC;\n",
              "    }\n",
              "\n",
              "    [theme=dark] .colab-df-convert:hover {\n",
              "      background-color: #434B5C;\n",
              "      box-shadow: 0px 1px 3px 1px rgba(0, 0, 0, 0.15);\n",
              "      filter: drop-shadow(0px 1px 2px rgba(0, 0, 0, 0.3));\n",
              "      fill: #FFFFFF;\n",
              "    }\n",
              "  </style>\n",
              "\n",
              "      <script>\n",
              "        const buttonEl =\n",
              "          document.querySelector('#df-75a8151f-1928-4307-98a2-6bf584b80a51 button.colab-df-convert');\n",
              "        buttonEl.style.display =\n",
              "          google.colab.kernel.accessAllowed ? 'block' : 'none';\n",
              "\n",
              "        async function convertToInteractive(key) {\n",
              "          const element = document.querySelector('#df-75a8151f-1928-4307-98a2-6bf584b80a51');\n",
              "          const dataTable =\n",
              "            await google.colab.kernel.invokeFunction('convertToInteractive',\n",
              "                                                     [key], {});\n",
              "          if (!dataTable) return;\n",
              "\n",
              "          const docLinkHtml = 'Like what you see? Visit the ' +\n",
              "            '<a target=\"_blank\" href=https://colab.research.google.com/notebooks/data_table.ipynb>data table notebook</a>'\n",
              "            + ' to learn more about interactive tables.';\n",
              "          element.innerHTML = '';\n",
              "          dataTable['output_type'] = 'display_data';\n",
              "          await google.colab.output.renderOutput(dataTable, element);\n",
              "          const docLink = document.createElement('div');\n",
              "          docLink.innerHTML = docLinkHtml;\n",
              "          element.appendChild(docLink);\n",
              "        }\n",
              "      </script>\n",
              "    </div>\n",
              "  </div>\n",
              "  "
            ],
            "text/plain": [
              "       Animal ID  ...                Color\n",
              "0        A786884  ...             Tricolor\n",
              "1        A706918  ...          White/Liver\n",
              "2        A724273  ...          Sable/White\n",
              "3        A665644  ...               Calico\n",
              "4        A682524  ...             Tan/Gray\n",
              "...          ...  ...                  ...\n",
              "124115   A828158  ...            Black/Tan\n",
              "124116   A830183  ...                White\n",
              "124117   A830180  ...  Brown Brindle/White\n",
              "124118   A830171  ...  Brown Brindle/White\n",
              "124119   A830181  ...          White/Black\n",
              "\n",
              "[124120 rows x 12 columns]"
            ]
          },
          "metadata": {},
          "execution_count": 121
        }
      ]
    },
    {
      "cell_type": "code",
      "source": [
        "#Drop the columns is not being used in the analysis.\n",
        "drop_cols = ['DateTime']\n",
        "df.drop(drop_cols, inplace = True, axis = 1)"
      ],
      "metadata": {
        "id": "pibUnE1uvyit"
      },
      "execution_count": null,
      "outputs": []
    },
    {
      "cell_type": "markdown",
      "source": [
        "# **Animal Accepted to the Shelter Each Year**\n",
        "\n",
        "\n",
        "Based on the data shown from the year 2013 to 2021, the total animals being intake to the shelter is 124,120 animals. The numbers has been high since 2014 and the highest amount of animal intake is in 2019 which had 19,728 animals. However, the number was decreasing from 2020 to 2021 by 46%. "
      ],
      "metadata": {
        "id": "f_CWCB_gnoCU"
      }
    },
    {
      "cell_type": "code",
      "source": [
        "#Use DateTime function for analyzing the year only.\n",
        "df_year = df['year'] = pd.DatetimeIndex(df['MonthYear']).year\n",
        "df_year"
      ],
      "metadata": {
        "colab": {
          "base_uri": "https://localhost:8080/"
        },
        "id": "W08kcLlUwFN_",
        "outputId": "8f4e4123-1f30-4f1f-c40c-3c3529fb4a48"
      },
      "execution_count": null,
      "outputs": [
        {
          "output_type": "execute_result",
          "data": {
            "text/plain": [
              "Int64Index([2019, 2015, 2016, 2013, 2014, 2017, 2019, 2015, 2020, 2018,\n",
              "            ...\n",
              "            2021, 2021, 2021, 2021, 2021, 2021, 2021, 2021, 2021, 2021],\n",
              "           dtype='int64', name='MonthYear', length=124120)"
            ]
          },
          "metadata": {},
          "execution_count": 123
        }
      ]
    },
    {
      "cell_type": "code",
      "source": [
        "#Creating new dataframe to focus on.\n",
        "df2 = df[['Animal ID','Intake Type','Intake Condition','Animal Type','Sex upon Intake','Age upon Intake','Breed', 'year']]\n",
        "df2.head()"
      ],
      "metadata": {
        "colab": {
          "base_uri": "https://localhost:8080/",
          "height": 206
        },
        "id": "iQrsm5X8wJq_",
        "outputId": "16f51d4b-d2a4-494e-ff95-28dcdc73841b"
      },
      "execution_count": null,
      "outputs": [
        {
          "output_type": "execute_result",
          "data": {
            "text/html": [
              "\n",
              "  <div id=\"df-29d3a0c5-772a-430d-8281-8cba5fed0fdd\">\n",
              "    <div class=\"colab-df-container\">\n",
              "      <div>\n",
              "<style scoped>\n",
              "    .dataframe tbody tr th:only-of-type {\n",
              "        vertical-align: middle;\n",
              "    }\n",
              "\n",
              "    .dataframe tbody tr th {\n",
              "        vertical-align: top;\n",
              "    }\n",
              "\n",
              "    .dataframe thead th {\n",
              "        text-align: right;\n",
              "    }\n",
              "</style>\n",
              "<table border=\"1\" class=\"dataframe\">\n",
              "  <thead>\n",
              "    <tr style=\"text-align: right;\">\n",
              "      <th></th>\n",
              "      <th>Animal ID</th>\n",
              "      <th>Intake Type</th>\n",
              "      <th>Intake Condition</th>\n",
              "      <th>Animal Type</th>\n",
              "      <th>Sex upon Intake</th>\n",
              "      <th>Age upon Intake</th>\n",
              "      <th>Breed</th>\n",
              "      <th>year</th>\n",
              "    </tr>\n",
              "  </thead>\n",
              "  <tbody>\n",
              "    <tr>\n",
              "      <th>0</th>\n",
              "      <td>A786884</td>\n",
              "      <td>Stray</td>\n",
              "      <td>Normal</td>\n",
              "      <td>Dog</td>\n",
              "      <td>Neutered Male</td>\n",
              "      <td>2 years</td>\n",
              "      <td>Beagle Mix</td>\n",
              "      <td>2019</td>\n",
              "    </tr>\n",
              "    <tr>\n",
              "      <th>1</th>\n",
              "      <td>A706918</td>\n",
              "      <td>Stray</td>\n",
              "      <td>Normal</td>\n",
              "      <td>Dog</td>\n",
              "      <td>Spayed Female</td>\n",
              "      <td>8 years</td>\n",
              "      <td>English Springer Spaniel</td>\n",
              "      <td>2015</td>\n",
              "    </tr>\n",
              "    <tr>\n",
              "      <th>2</th>\n",
              "      <td>A724273</td>\n",
              "      <td>Stray</td>\n",
              "      <td>Normal</td>\n",
              "      <td>Dog</td>\n",
              "      <td>Intact Male</td>\n",
              "      <td>11 months</td>\n",
              "      <td>Basenji Mix</td>\n",
              "      <td>2016</td>\n",
              "    </tr>\n",
              "    <tr>\n",
              "      <th>3</th>\n",
              "      <td>A665644</td>\n",
              "      <td>Stray</td>\n",
              "      <td>Sick</td>\n",
              "      <td>Cat</td>\n",
              "      <td>Intact Female</td>\n",
              "      <td>4 weeks</td>\n",
              "      <td>Domestic Shorthair Mix</td>\n",
              "      <td>2013</td>\n",
              "    </tr>\n",
              "    <tr>\n",
              "      <th>4</th>\n",
              "      <td>A682524</td>\n",
              "      <td>Stray</td>\n",
              "      <td>Normal</td>\n",
              "      <td>Dog</td>\n",
              "      <td>Neutered Male</td>\n",
              "      <td>4 years</td>\n",
              "      <td>Doberman Pinsch/Australian Cattle Dog</td>\n",
              "      <td>2014</td>\n",
              "    </tr>\n",
              "  </tbody>\n",
              "</table>\n",
              "</div>\n",
              "      <button class=\"colab-df-convert\" onclick=\"convertToInteractive('df-29d3a0c5-772a-430d-8281-8cba5fed0fdd')\"\n",
              "              title=\"Convert this dataframe to an interactive table.\"\n",
              "              style=\"display:none;\">\n",
              "        \n",
              "  <svg xmlns=\"http://www.w3.org/2000/svg\" height=\"24px\"viewBox=\"0 0 24 24\"\n",
              "       width=\"24px\">\n",
              "    <path d=\"M0 0h24v24H0V0z\" fill=\"none\"/>\n",
              "    <path d=\"M18.56 5.44l.94 2.06.94-2.06 2.06-.94-2.06-.94-.94-2.06-.94 2.06-2.06.94zm-11 1L8.5 8.5l.94-2.06 2.06-.94-2.06-.94L8.5 2.5l-.94 2.06-2.06.94zm10 10l.94 2.06.94-2.06 2.06-.94-2.06-.94-.94-2.06-.94 2.06-2.06.94z\"/><path d=\"M17.41 7.96l-1.37-1.37c-.4-.4-.92-.59-1.43-.59-.52 0-1.04.2-1.43.59L10.3 9.45l-7.72 7.72c-.78.78-.78 2.05 0 2.83L4 21.41c.39.39.9.59 1.41.59.51 0 1.02-.2 1.41-.59l7.78-7.78 2.81-2.81c.8-.78.8-2.07 0-2.86zM5.41 20L4 18.59l7.72-7.72 1.47 1.35L5.41 20z\"/>\n",
              "  </svg>\n",
              "      </button>\n",
              "      \n",
              "  <style>\n",
              "    .colab-df-container {\n",
              "      display:flex;\n",
              "      flex-wrap:wrap;\n",
              "      gap: 12px;\n",
              "    }\n",
              "\n",
              "    .colab-df-convert {\n",
              "      background-color: #E8F0FE;\n",
              "      border: none;\n",
              "      border-radius: 50%;\n",
              "      cursor: pointer;\n",
              "      display: none;\n",
              "      fill: #1967D2;\n",
              "      height: 32px;\n",
              "      padding: 0 0 0 0;\n",
              "      width: 32px;\n",
              "    }\n",
              "\n",
              "    .colab-df-convert:hover {\n",
              "      background-color: #E2EBFA;\n",
              "      box-shadow: 0px 1px 2px rgba(60, 64, 67, 0.3), 0px 1px 3px 1px rgba(60, 64, 67, 0.15);\n",
              "      fill: #174EA6;\n",
              "    }\n",
              "\n",
              "    [theme=dark] .colab-df-convert {\n",
              "      background-color: #3B4455;\n",
              "      fill: #D2E3FC;\n",
              "    }\n",
              "\n",
              "    [theme=dark] .colab-df-convert:hover {\n",
              "      background-color: #434B5C;\n",
              "      box-shadow: 0px 1px 3px 1px rgba(0, 0, 0, 0.15);\n",
              "      filter: drop-shadow(0px 1px 2px rgba(0, 0, 0, 0.3));\n",
              "      fill: #FFFFFF;\n",
              "    }\n",
              "  </style>\n",
              "\n",
              "      <script>\n",
              "        const buttonEl =\n",
              "          document.querySelector('#df-29d3a0c5-772a-430d-8281-8cba5fed0fdd button.colab-df-convert');\n",
              "        buttonEl.style.display =\n",
              "          google.colab.kernel.accessAllowed ? 'block' : 'none';\n",
              "\n",
              "        async function convertToInteractive(key) {\n",
              "          const element = document.querySelector('#df-29d3a0c5-772a-430d-8281-8cba5fed0fdd');\n",
              "          const dataTable =\n",
              "            await google.colab.kernel.invokeFunction('convertToInteractive',\n",
              "                                                     [key], {});\n",
              "          if (!dataTable) return;\n",
              "\n",
              "          const docLinkHtml = 'Like what you see? Visit the ' +\n",
              "            '<a target=\"_blank\" href=https://colab.research.google.com/notebooks/data_table.ipynb>data table notebook</a>'\n",
              "            + ' to learn more about interactive tables.';\n",
              "          element.innerHTML = '';\n",
              "          dataTable['output_type'] = 'display_data';\n",
              "          await google.colab.output.renderOutput(dataTable, element);\n",
              "          const docLink = document.createElement('div');\n",
              "          docLink.innerHTML = docLinkHtml;\n",
              "          element.appendChild(docLink);\n",
              "        }\n",
              "      </script>\n",
              "    </div>\n",
              "  </div>\n",
              "  "
            ],
            "text/plain": [
              "  Animal ID Intake Type  ...                                  Breed  year\n",
              "0   A786884       Stray  ...                             Beagle Mix  2019\n",
              "1   A706918       Stray  ...               English Springer Spaniel  2015\n",
              "2   A724273       Stray  ...                            Basenji Mix  2016\n",
              "3   A665644       Stray  ...                 Domestic Shorthair Mix  2013\n",
              "4   A682524       Stray  ...  Doberman Pinsch/Australian Cattle Dog  2014\n",
              "\n",
              "[5 rows x 8 columns]"
            ]
          },
          "metadata": {},
          "execution_count": 124
        }
      ]
    },
    {
      "cell_type": "code",
      "source": [
        "#To see how many intake the animal per year.\n",
        "df_year.value_counts()"
      ],
      "metadata": {
        "colab": {
          "base_uri": "https://localhost:8080/"
        },
        "id": "2E44jdbIwMOI",
        "outputId": "7ff1c6ee-3746-44a7-eec0-232c5fedace4"
      },
      "execution_count": null,
      "outputs": [
        {
          "output_type": "execute_result",
          "data": {
            "text/plain": [
              "2019    19728\n",
              "2015    18712\n",
              "2014    18656\n",
              "2016    17675\n",
              "2017    17563\n",
              "2018    16979\n",
              "2020     9586\n",
              "2013     4182\n",
              "2021     1039\n",
              "Name: MonthYear, dtype: int64"
            ]
          },
          "metadata": {},
          "execution_count": 125
        }
      ]
    },
    {
      "cell_type": "code",
      "source": [
        "#Find the total intake animal to the shelter.\n",
        "y_total=19728+18712+18656+17675+17563+16979+9586+4182+1039\n",
        "y_total"
      ],
      "metadata": {
        "colab": {
          "base_uri": "https://localhost:8080/"
        },
        "id": "r_ZABbP3ARm5",
        "outputId": "2deb15b5-a487-4b8d-b052-bf719ebf612b"
      },
      "execution_count": null,
      "outputs": [
        {
          "output_type": "execute_result",
          "data": {
            "text/plain": [
              "124120"
            ]
          },
          "metadata": {},
          "execution_count": 126
        }
      ]
    },
    {
      "cell_type": "code",
      "source": [
        "#Calculate the total intake animal from year 2020 to 2021\n",
        "y_20_21 = 9586+1039\n",
        "y_20_21"
      ],
      "metadata": {
        "colab": {
          "base_uri": "https://localhost:8080/"
        },
        "id": "LHcG_h1jJKaZ",
        "outputId": "c22dd238-9921-444e-f61e-de13092c04d9"
      },
      "execution_count": null,
      "outputs": [
        {
          "output_type": "execute_result",
          "data": {
            "text/plain": [
              "10625"
            ]
          },
          "metadata": {},
          "execution_count": 128
        }
      ]
    },
    {
      "cell_type": "code",
      "source": [
        "#Finding the percentage decreasing from 2019 to 2021\n",
        "decre_19_20_21 = ((19728-10625)/19728)*100\n",
        "decre_19_20_21 \n"
      ],
      "metadata": {
        "colab": {
          "base_uri": "https://localhost:8080/"
        },
        "id": "R_4oZkm5C4Rb",
        "outputId": "54995441-5dea-42d0-bc20-55659cf0c49b"
      },
      "execution_count": null,
      "outputs": [
        {
          "output_type": "execute_result",
          "data": {
            "text/plain": [
              "46.14253852392539"
            ]
          },
          "metadata": {},
          "execution_count": 129
        }
      ]
    },
    {
      "cell_type": "code",
      "source": [
        "#Creating data visualization to see how many intake the animal each year by using the displot.\n",
        "sns.displot(df_year)\n",
        "plt.figure(figsize=(5,5))"
      ],
      "metadata": {
        "colab": {
          "base_uri": "https://localhost:8080/",
          "height": 404
        },
        "id": "g4fxO2sIwN9E",
        "outputId": "c055f6fc-6057-4148-97c2-c07951d9316f"
      },
      "execution_count": null,
      "outputs": [
        {
          "output_type": "execute_result",
          "data": {
            "text/plain": [
              "<Figure size 360x360 with 0 Axes>"
            ]
          },
          "metadata": {},
          "execution_count": 130
        },
        {
          "output_type": "display_data",
          "data": {
            "image/png": "[encoded data removed]",
            "text/plain": [
              "<Figure size 360x360 with 1 Axes>"
            ]
          },
          "metadata": {
            "needs_background": "light"
          }
        },
        {
          "output_type": "display_data",
          "data": {
            "text/plain": [
              "<Figure size 360x360 with 0 Axes>"
            ]
          },
          "metadata": {}
        }
      ]
    },
    {
      "cell_type": "markdown",
      "source": [
        "# **Animal Type resuced**\n",
        "\n",
        "Austin Animal Center is not only accepting dogs and cats, but also accepting other kinds of animal such as birds, wildlife, livestock, and others. Dogs and cats are the the most living in the shelter. The amount of intake dogs are 70,447 and cats are 46,455."
      ],
      "metadata": {
        "id": "rJuhR_lgwP8f"
      }
    },
    {
      "cell_type": "code",
      "source": [
        "#Find the amount of animal type.\n",
        "df['Animal Type'].value_counts()"
      ],
      "metadata": {
        "colab": {
          "base_uri": "https://localhost:8080/"
        },
        "id": "HLbokqV4wRDX",
        "outputId": "2e737f1f-280c-4613-9c35-d69c5b7c0c6f"
      },
      "execution_count": null,
      "outputs": [
        {
          "output_type": "execute_result",
          "data": {
            "text/plain": [
              "Dog          70447\n",
              "Cat          46455\n",
              "Other         6610\n",
              "Bird           586\n",
              "Livestock       22\n",
              "Name: Animal Type, dtype: int64"
            ]
          },
          "metadata": {},
          "execution_count": 131
        }
      ]
    },
    {
      "cell_type": "code",
      "source": [
        "#Create bar chart to see the amount of animals and specific the color for each one.\n",
        "df['Animal Type'].value_counts().sort_values(ascending=False).plot(kind = 'bar', rot =0, color=['red','brown','blue','purple','green'])\n",
        "plt.rc('font', size=13) "
      ],
      "metadata": {
        "colab": {
          "base_uri": "https://localhost:8080/",
          "height": 265
        },
        "id": "C4gzBSKQwSqG",
        "outputId": "980a207b-f41e-41fe-9cde-5494da842031"
      },
      "execution_count": null,
      "outputs": [
        {
          "output_type": "display_data",
          "data": {
            "image/png": "[encoded data removed]",
            "text/plain": [
              "<Figure size 432x288 with 1 Axes>"
            ]
          },
          "metadata": {
            "needs_background": "light"
          }
        }
      ]
    },
    {
      "cell_type": "code",
      "source": [
        "#The average of all of animal in the shelter record.\n",
        "df['Animal Type'].value_counts().mean()"
      ],
      "metadata": {
        "colab": {
          "base_uri": "https://localhost:8080/"
        },
        "id": "98mgMj9jjvhh",
        "outputId": "a420dbd3-ea6c-48f4-973d-e2888a73291a"
      },
      "execution_count": null,
      "outputs": [
        {
          "output_type": "execute_result",
          "data": {
            "text/plain": [
              "24824.0"
            ]
          },
          "metadata": {},
          "execution_count": 133
        }
      ]
    },
    {
      "cell_type": "code",
      "source": [
        "df['Animal Type'].value_counts().describe()"
      ],
      "metadata": {
        "colab": {
          "base_uri": "https://localhost:8080/"
        },
        "id": "iWcAyrH6kLKn",
        "outputId": "e11fbd08-291f-4af4-adeb-b507ee392534"
      },
      "execution_count": null,
      "outputs": [
        {
          "output_type": "execute_result",
          "data": {
            "text/plain": [
              "count        5.000000\n",
              "mean     24824.000000\n",
              "std      31952.026282\n",
              "min         22.000000\n",
              "25%        586.000000\n",
              "50%       6610.000000\n",
              "75%      46455.000000\n",
              "max      70447.000000\n",
              "Name: Animal Type, dtype: float64"
            ]
          },
          "metadata": {},
          "execution_count": 134
        }
      ]
    },
    {
      "cell_type": "markdown",
      "source": [
        "# **Cause of Animal Intake to the Shelter**\n",
        "\n",
        "Based on the data showed, the animal taken in the most into the shelter are stray animals and the owner surrendered. Stray animals have the highest number to 86,455 animals and the owner surrender is more than 24,606.\n"
      ],
      "metadata": {
        "id": "2076aX6ewV9m"
      }
    },
    {
      "cell_type": "code",
      "source": [
        "#Find the amount of intaking animal.\n",
        "df2['Intake Type'].value_counts()"
      ],
      "metadata": {
        "colab": {
          "base_uri": "https://localhost:8080/"
        },
        "id": "8GU_NK8bwWov",
        "outputId": "12810b95-70bb-4aef-9a13-415b443c9143"
      },
      "execution_count": null,
      "outputs": [
        {
          "output_type": "execute_result",
          "data": {
            "text/plain": [
              "Stray                 86455\n",
              "Owner Surrender       24606\n",
              "Public Assist          7621\n",
              "Wildlife               4898\n",
              "Abandoned               283\n",
              "Euthanasia Request      257\n",
              "Name: Intake Type, dtype: int64"
            ]
          },
          "metadata": {},
          "execution_count": 135
        }
      ]
    },
    {
      "cell_type": "code",
      "source": [
        "#Create bar chart to see the amount of the causes of intake the animal.\n",
        "#Undisplay the x and y lable.\n",
        "sns.countplot(y='Intake Type', data = df2)\n",
        "plt.title(\"The Cause of Intake the Animal\", y = 1.05)\n",
        "plt.ylabel(\"\")\n",
        "plt.xlabel(\"\")\n",
        "plt.rc('font', size=10) \n"
      ],
      "metadata": {
        "colab": {
          "base_uri": "https://localhost:8080/",
          "height": 297
        },
        "id": "DYqKQKtVwaO3",
        "outputId": "fcbcbf22-39b6-4a6d-cce9-7fbf114aa0a9"
      },
      "execution_count": null,
      "outputs": [
        {
          "output_type": "display_data",
          "data": {
            "image/png": "[encoded data removed]",
            "text/plain": [
              "<Figure size 432x288 with 1 Axes>"
            ]
          },
          "metadata": {
            "needs_background": "light"
          }
        }
      ]
    },
    {
      "cell_type": "markdown",
      "source": [
        "# **Type of Condition when Came in to the Shelter**\n",
        "\n",
        "There are 87% of animals condition that are normal. Only 13% that included injury, sick, nursing, and others conditions when intake to the shelter."
      ],
      "metadata": {
        "id": "2k-Xh_gDrlGE"
      }
    },
    {
      "cell_type": "code",
      "source": [
        "#Find the amount of intaking animal condition.\n",
        "df['Intake Condition'].value_counts()"
      ],
      "metadata": {
        "colab": {
          "base_uri": "https://localhost:8080/"
        },
        "id": "CFUVDPXjD9VL",
        "outputId": "bf2490cf-5191-496a-ff30-f6eba0b61a2b"
      },
      "execution_count": null,
      "outputs": [
        {
          "output_type": "execute_result",
          "data": {
            "text/plain": [
              "Normal      107952\n",
              "Injured       6639\n",
              "Sick          5078\n",
              "Nursing       3524\n",
              "Aged           430\n",
              "Other          229\n",
              "Feral          108\n",
              "Pregnant        77\n",
              "Medical         63\n",
              "Behavior        20\n",
              "Name: Intake Condition, dtype: int64"
            ]
          },
          "metadata": {},
          "execution_count": 138
        }
      ]
    },
    {
      "cell_type": "code",
      "source": [
        "#Calculating percentage of animal behavior. \n",
        "behav_per = (20/124120)*100\n",
        "behav_per"
      ],
      "metadata": {
        "colab": {
          "base_uri": "https://localhost:8080/"
        },
        "id": "0KXxNXBzeCvV",
        "outputId": "9d71284b-2101-495c-828c-53d87be59a47"
      },
      "execution_count": null,
      "outputs": [
        {
          "output_type": "execute_result",
          "data": {
            "text/plain": [
              "0.016113438607798906"
            ]
          },
          "metadata": {},
          "execution_count": 152
        }
      ]
    },
    {
      "cell_type": "code",
      "source": [
        "#Calculating the total of animal condition.\n",
        "condi=107952+6639+5078+3524+430+229+108+77+63+20\n",
        "condi"
      ],
      "metadata": {
        "colab": {
          "base_uri": "https://localhost:8080/"
        },
        "id": "Ef4R6yN_QsjB",
        "outputId": "240add87-ca9b-42b0-b3f6-64b05a0fce32"
      },
      "execution_count": null,
      "outputs": [
        {
          "output_type": "execute_result",
          "data": {
            "text/plain": [
              "124120"
            ]
          },
          "metadata": {},
          "execution_count": 139
        }
      ]
    },
    {
      "cell_type": "code",
      "source": [
        "#Calculate the percentage of normal condition.\n",
        "codi_nor_per =  (107952/124120)*100\n",
        "codi_nor_per"
      ],
      "metadata": {
        "colab": {
          "base_uri": "https://localhost:8080/"
        },
        "id": "N7Ta5LAVRU9R",
        "outputId": "a5be0b66-f25e-48ec-c31c-c6e349bd1379"
      },
      "execution_count": null,
      "outputs": [
        {
          "output_type": "execute_result",
          "data": {
            "text/plain": [
              "86.97389622945536"
            ]
          },
          "metadata": {},
          "execution_count": 140
        }
      ]
    },
    {
      "cell_type": "code",
      "source": [
        "#Calculating the total of others condition.\n",
        "other_condi = 6639+5078+3524+430+229+108+77+63+20\n",
        "other_condi"
      ],
      "metadata": {
        "colab": {
          "base_uri": "https://localhost:8080/"
        },
        "id": "mrKzfY1PSHS-",
        "outputId": "4752ffc2-4772-40a6-c355-ef5ddae47a8d"
      },
      "execution_count": null,
      "outputs": [
        {
          "output_type": "execute_result",
          "data": {
            "text/plain": [
              "16168"
            ]
          },
          "metadata": {},
          "execution_count": 141
        }
      ]
    },
    {
      "cell_type": "code",
      "source": [
        "#Calculate the percentage of others condition.\n",
        "other_condi_per = (16168/124120)*100\n",
        "other_condi_per"
      ],
      "metadata": {
        "colab": {
          "base_uri": "https://localhost:8080/"
        },
        "id": "oKL6c2IgSDeN",
        "outputId": "0c0820c8-2266-4f40-d75b-48ab5ee4ab39"
      },
      "execution_count": null,
      "outputs": [
        {
          "output_type": "execute_result",
          "data": {
            "text/plain": [
              "13.026103770544633"
            ]
          },
          "metadata": {},
          "execution_count": 142
        }
      ]
    },
    {
      "cell_type": "code",
      "source": [
        "#Creating the data visualization.\n",
        "df['Intake Condition'].value_counts().sort_values(ascending=False).plot(kind = 'bar', rot = 19)"
      ],
      "metadata": {
        "colab": {
          "base_uri": "https://localhost:8080/",
          "height": 297
        },
        "id": "rcusF-m3U2Da",
        "outputId": "f3e22f54-b07a-415a-ded9-2d19d0d4512b"
      },
      "execution_count": null,
      "outputs": [
        {
          "output_type": "execute_result",
          "data": {
            "text/plain": [
              "<matplotlib.axes._subplots.AxesSubplot at 0x7fb637290b50>"
            ]
          },
          "metadata": {},
          "execution_count": 143
        },
        {
          "output_type": "display_data",
          "data": {
            "image/png": "[encoded data removed]",
            "text/plain": [
              "<Figure size 432x288 with 1 Axes>"
            ]
          },
          "metadata": {
            "needs_background": "light"
          }
        }
      ]
    },
    {
      "cell_type": "code",
      "source": [
        "#Finding the animal age inside the shelter.\n",
        "df_age = df['Age upon Intake'].value_counts()\n",
        "df_age"
      ],
      "metadata": {
        "colab": {
          "base_uri": "https://localhost:8080/"
        },
        "id": "MT3BRM1o8HSM",
        "outputId": "867b2df6-cc36-4960-9c5d-062e32522c4a"
      },
      "execution_count": null,
      "outputs": [
        {
          "output_type": "execute_result",
          "data": {
            "text/plain": [
              "1 year       21794\n",
              "2 years      19030\n",
              "1 month      11910\n",
              "3 years       7449\n",
              "2 months      6733\n",
              "4 years       4452\n",
              "4 weeks       4414\n",
              "5 years       4061\n",
              "3 weeks       3616\n",
              "3 months      3276\n",
              "4 months      3202\n",
              "5 months      3073\n",
              "6 years       2714\n",
              "2 weeks       2498\n",
              "6 months      2396\n",
              "7 years       2335\n",
              "8 years       2281\n",
              "7 months      1856\n",
              "10 years      1827\n",
              "9 months      1824\n",
              "8 months      1500\n",
              "9 years       1330\n",
              "10 months     1027\n",
              "1 week        1022\n",
              "1 weeks        888\n",
              "12 years       879\n",
              "11 months      795\n",
              "0 years        754\n",
              "11 years       745\n",
              "1 day          635\n",
              "3 days         578\n",
              "13 years       575\n",
              "2 days         478\n",
              "14 years       383\n",
              "15 years       335\n",
              "4 days         324\n",
              "5 weeks        315\n",
              "6 days         305\n",
              "5 days         180\n",
              "16 years       140\n",
              "17 years        82\n",
              "18 years        47\n",
              "19 years        27\n",
              "20 years        19\n",
              "22 years         5\n",
              "-1 years         5\n",
              "-2 years         1\n",
              "25 years         1\n",
              "23 years         1\n",
              "24 years         1\n",
              "21 years         1\n",
              "-3 years         1\n",
              "Name: Age upon Intake, dtype: int64"
            ]
          },
          "metadata": {},
          "execution_count": 144
        }
      ]
    },
    {
      "cell_type": "markdown",
      "source": [
        "# **The most type of dogs and cats breeds inside the shelter.**\n",
        "\n",
        "The data show the top 5 breed of dogs and cats. Mostly the dogs and cats breed are mixed with another breed. \n",
        "\n",
        "**Top 5 Breed Dog in the Shelter:**\n",
        "\n",
        "*   Pit Bull Mix\n",
        "*   Labrador Retriever Mix\n",
        "*   Chihuahua Shorthair Mix\n",
        "*   German Shepherd Mix   \n",
        "*   Australian Cattle Dog Mix\n",
        "\n",
        "**Top 5 Breed Cat in the Shelter:**\n",
        "\n",
        "*   Domestic Shorthair Mix \n",
        "*   Domestic Shorthair   \n",
        "*   Domestic Medium Hair Mix\n",
        "*   Domestic Longhair Mix \n",
        "*  Siamese Mix "
      ],
      "metadata": {
        "id": "8rwHi_dvuazF"
      }
    },
    {
      "cell_type": "code",
      "source": [
        "#Creating new dataframe to analyze only dog data and set of the data columns to display.\n",
        "df_dog = df['Animal Type']=='Dog'\n",
        "df3 = df[df_dog]\n",
        "df3 = df3.filter(['year','Animal Type','Sex upon Intake','Age upon Intake','Breed', 'Color'])\n",
        "df3.rename(columns={\"Sex upon Intake\": \"Gender\",\"Age upon Intake\":\"Age\"})"
      ],
      "metadata": {
        "colab": {
          "base_uri": "https://localhost:8080/",
          "height": 423
        },
        "id": "9SVPPFNqqN_j",
        "outputId": "a5da7ef5-571b-4a25-cea2-0699d53f6312"
      },
      "execution_count": null,
      "outputs": [
        {
          "output_type": "execute_result",
          "data": {
            "text/html": [
              "\n",
              "  <div id=\"df-a521d02d-bed1-45f5-a8ef-0ad2c4afb9b8\">\n",
              "    <div class=\"colab-df-container\">\n",
              "      <div>\n",
              "<style scoped>\n",
              "    .dataframe tbody tr th:only-of-type {\n",
              "        vertical-align: middle;\n",
              "    }\n",
              "\n",
              "    .dataframe tbody tr th {\n",
              "        vertical-align: top;\n",
              "    }\n",
              "\n",
              "    .dataframe thead th {\n",
              "        text-align: right;\n",
              "    }\n",
              "</style>\n",
              "<table border=\"1\" class=\"dataframe\">\n",
              "  <thead>\n",
              "    <tr style=\"text-align: right;\">\n",
              "      <th></th>\n",
              "      <th>year</th>\n",
              "      <th>Animal Type</th>\n",
              "      <th>Gender</th>\n",
              "      <th>Age</th>\n",
              "      <th>Breed</th>\n",
              "      <th>Color</th>\n",
              "    </tr>\n",
              "  </thead>\n",
              "  <tbody>\n",
              "    <tr>\n",
              "      <th>0</th>\n",
              "      <td>2019</td>\n",
              "      <td>Dog</td>\n",
              "      <td>Neutered Male</td>\n",
              "      <td>2 years</td>\n",
              "      <td>Beagle Mix</td>\n",
              "      <td>Tricolor</td>\n",
              "    </tr>\n",
              "    <tr>\n",
              "      <th>1</th>\n",
              "      <td>2015</td>\n",
              "      <td>Dog</td>\n",
              "      <td>Spayed Female</td>\n",
              "      <td>8 years</td>\n",
              "      <td>English Springer Spaniel</td>\n",
              "      <td>White/Liver</td>\n",
              "    </tr>\n",
              "    <tr>\n",
              "      <th>2</th>\n",
              "      <td>2016</td>\n",
              "      <td>Dog</td>\n",
              "      <td>Intact Male</td>\n",
              "      <td>11 months</td>\n",
              "      <td>Basenji Mix</td>\n",
              "      <td>Sable/White</td>\n",
              "    </tr>\n",
              "    <tr>\n",
              "      <th>4</th>\n",
              "      <td>2014</td>\n",
              "      <td>Dog</td>\n",
              "      <td>Neutered Male</td>\n",
              "      <td>4 years</td>\n",
              "      <td>Doberman Pinsch/Australian Cattle Dog</td>\n",
              "      <td>Tan/Gray</td>\n",
              "    </tr>\n",
              "    <tr>\n",
              "      <th>5</th>\n",
              "      <td>2017</td>\n",
              "      <td>Dog</td>\n",
              "      <td>Neutered Male</td>\n",
              "      <td>2 years</td>\n",
              "      <td>Labrador Retriever Mix</td>\n",
              "      <td>Chocolate</td>\n",
              "    </tr>\n",
              "    <tr>\n",
              "      <th>...</th>\n",
              "      <td>...</td>\n",
              "      <td>...</td>\n",
              "      <td>...</td>\n",
              "      <td>...</td>\n",
              "      <td>...</td>\n",
              "      <td>...</td>\n",
              "    </tr>\n",
              "    <tr>\n",
              "      <th>124114</th>\n",
              "      <td>2021</td>\n",
              "      <td>Dog</td>\n",
              "      <td>Intact Female</td>\n",
              "      <td>2 years</td>\n",
              "      <td>Pit Bull</td>\n",
              "      <td>Black/White</td>\n",
              "    </tr>\n",
              "    <tr>\n",
              "      <th>124115</th>\n",
              "      <td>2021</td>\n",
              "      <td>Dog</td>\n",
              "      <td>Intact Male</td>\n",
              "      <td>10 months</td>\n",
              "      <td>Rottweiler Mix</td>\n",
              "      <td>Black/Tan</td>\n",
              "    </tr>\n",
              "    <tr>\n",
              "      <th>124116</th>\n",
              "      <td>2021</td>\n",
              "      <td>Dog</td>\n",
              "      <td>Intact Female</td>\n",
              "      <td>1 month</td>\n",
              "      <td>Chihuahua Shorthair</td>\n",
              "      <td>White</td>\n",
              "    </tr>\n",
              "    <tr>\n",
              "      <th>124117</th>\n",
              "      <td>2021</td>\n",
              "      <td>Dog</td>\n",
              "      <td>Intact Female</td>\n",
              "      <td>9 years</td>\n",
              "      <td>Australian Cattle Dog/Belgian Malinois</td>\n",
              "      <td>Brown Brindle/White</td>\n",
              "    </tr>\n",
              "    <tr>\n",
              "      <th>124118</th>\n",
              "      <td>2021</td>\n",
              "      <td>Dog</td>\n",
              "      <td>Intact Female</td>\n",
              "      <td>1 year</td>\n",
              "      <td>Plott Hound Mix</td>\n",
              "      <td>Brown Brindle/White</td>\n",
              "    </tr>\n",
              "  </tbody>\n",
              "</table>\n",
              "<p>70447 rows × 6 columns</p>\n",
              "</div>\n",
              "      <button class=\"colab-df-convert\" onclick=\"convertToInteractive('df-a521d02d-bed1-45f5-a8ef-0ad2c4afb9b8')\"\n",
              "              title=\"Convert this dataframe to an interactive table.\"\n",
              "              style=\"display:none;\">\n",
              "        \n",
              "  <svg xmlns=\"http://www.w3.org/2000/svg\" height=\"24px\"viewBox=\"0 0 24 24\"\n",
              "       width=\"24px\">\n",
              "    <path d=\"M0 0h24v24H0V0z\" fill=\"none\"/>\n",
              "    <path d=\"M18.56 5.44l.94 2.06.94-2.06 2.06-.94-2.06-.94-.94-2.06-.94 2.06-2.06.94zm-11 1L8.5 8.5l.94-2.06 2.06-.94-2.06-.94L8.5 2.5l-.94 2.06-2.06.94zm10 10l.94 2.06.94-2.06 2.06-.94-2.06-.94-.94-2.06-.94 2.06-2.06.94z\"/><path d=\"M17.41 7.96l-1.37-1.37c-.4-.4-.92-.59-1.43-.59-.52 0-1.04.2-1.43.59L10.3 9.45l-7.72 7.72c-.78.78-.78 2.05 0 2.83L4 21.41c.39.39.9.59 1.41.59.51 0 1.02-.2 1.41-.59l7.78-7.78 2.81-2.81c.8-.78.8-2.07 0-2.86zM5.41 20L4 18.59l7.72-7.72 1.47 1.35L5.41 20z\"/>\n",
              "  </svg>\n",
              "      </button>\n",
              "      \n",
              "  <style>\n",
              "    .colab-df-container {\n",
              "      display:flex;\n",
              "      flex-wrap:wrap;\n",
              "      gap: 12px;\n",
              "    }\n",
              "\n",
              "    .colab-df-convert {\n",
              "      background-color: #E8F0FE;\n",
              "      border: none;\n",
              "      border-radius: 50%;\n",
              "      cursor: pointer;\n",
              "      display: none;\n",
              "      fill: #1967D2;\n",
              "      height: 32px;\n",
              "      padding: 0 0 0 0;\n",
              "      width: 32px;\n",
              "    }\n",
              "\n",
              "    .colab-df-convert:hover {\n",
              "      background-color: #E2EBFA;\n",
              "      box-shadow: 0px 1px 2px rgba(60, 64, 67, 0.3), 0px 1px 3px 1px rgba(60, 64, 67, 0.15);\n",
              "      fill: #174EA6;\n",
              "    }\n",
              "\n",
              "    [theme=dark] .colab-df-convert {\n",
              "      background-color: #3B4455;\n",
              "      fill: #D2E3FC;\n",
              "    }\n",
              "\n",
              "    [theme=dark] .colab-df-convert:hover {\n",
              "      background-color: #434B5C;\n",
              "      box-shadow: 0px 1px 3px 1px rgba(0, 0, 0, 0.15);\n",
              "      filter: drop-shadow(0px 1px 2px rgba(0, 0, 0, 0.3));\n",
              "      fill: #FFFFFF;\n",
              "    }\n",
              "  </style>\n",
              "\n",
              "      <script>\n",
              "        const buttonEl =\n",
              "          document.querySelector('#df-a521d02d-bed1-45f5-a8ef-0ad2c4afb9b8 button.colab-df-convert');\n",
              "        buttonEl.style.display =\n",
              "          google.colab.kernel.accessAllowed ? 'block' : 'none';\n",
              "\n",
              "        async function convertToInteractive(key) {\n",
              "          const element = document.querySelector('#df-a521d02d-bed1-45f5-a8ef-0ad2c4afb9b8');\n",
              "          const dataTable =\n",
              "            await google.colab.kernel.invokeFunction('convertToInteractive',\n",
              "                                                     [key], {});\n",
              "          if (!dataTable) return;\n",
              "\n",
              "          const docLinkHtml = 'Like what you see? Visit the ' +\n",
              "            '<a target=\"_blank\" href=https://colab.research.google.com/notebooks/data_table.ipynb>data table notebook</a>'\n",
              "            + ' to learn more about interactive tables.';\n",
              "          element.innerHTML = '';\n",
              "          dataTable['output_type'] = 'display_data';\n",
              "          await google.colab.output.renderOutput(dataTable, element);\n",
              "          const docLink = document.createElement('div');\n",
              "          docLink.innerHTML = docLinkHtml;\n",
              "          element.appendChild(docLink);\n",
              "        }\n",
              "      </script>\n",
              "    </div>\n",
              "  </div>\n",
              "  "
            ],
            "text/plain": [
              "        year  ...                Color\n",
              "0       2019  ...             Tricolor\n",
              "1       2015  ...          White/Liver\n",
              "2       2016  ...          Sable/White\n",
              "4       2014  ...             Tan/Gray\n",
              "5       2017  ...            Chocolate\n",
              "...      ...  ...                  ...\n",
              "124114  2021  ...          Black/White\n",
              "124115  2021  ...            Black/Tan\n",
              "124116  2021  ...                White\n",
              "124117  2021  ...  Brown Brindle/White\n",
              "124118  2021  ...  Brown Brindle/White\n",
              "\n",
              "[70447 rows x 6 columns]"
            ]
          },
          "metadata": {},
          "execution_count": 145
        }
      ]
    },
    {
      "cell_type": "code",
      "source": [
        "#Creating new dataframe to analyze only cat data and set of the data columns to display.\n",
        "df_cat = df['Animal Type']=='Cat'\n",
        "df4 = df[df_cat]\n",
        "df4 = df4.filter(['year','Animal Type','Sex upon Intake','Age upon Intake','Breed', 'Color'])\n",
        "df4.rename(columns={\"Sex upon Intake\": \"Gender\",\"Age upon Intake\":\"Age\"})"
      ],
      "metadata": {
        "colab": {
          "base_uri": "https://localhost:8080/",
          "height": 423
        },
        "id": "sS1URLVUsiph",
        "outputId": "d6676d78-ef3b-44e6-ee2e-b5af4a6b2b67"
      },
      "execution_count": null,
      "outputs": [
        {
          "output_type": "execute_result",
          "data": {
            "text/html": [
              "\n",
              "  <div id=\"df-adc5412e-a874-4432-90a4-54ff4e26a43e\">\n",
              "    <div class=\"colab-df-container\">\n",
              "      <div>\n",
              "<style scoped>\n",
              "    .dataframe tbody tr th:only-of-type {\n",
              "        vertical-align: middle;\n",
              "    }\n",
              "\n",
              "    .dataframe tbody tr th {\n",
              "        vertical-align: top;\n",
              "    }\n",
              "\n",
              "    .dataframe thead th {\n",
              "        text-align: right;\n",
              "    }\n",
              "</style>\n",
              "<table border=\"1\" class=\"dataframe\">\n",
              "  <thead>\n",
              "    <tr style=\"text-align: right;\">\n",
              "      <th></th>\n",
              "      <th>year</th>\n",
              "      <th>Animal Type</th>\n",
              "      <th>Gender</th>\n",
              "      <th>Age</th>\n",
              "      <th>Breed</th>\n",
              "      <th>Color</th>\n",
              "    </tr>\n",
              "  </thead>\n",
              "  <tbody>\n",
              "    <tr>\n",
              "      <th>3</th>\n",
              "      <td>2013</td>\n",
              "      <td>Cat</td>\n",
              "      <td>Intact Female</td>\n",
              "      <td>4 weeks</td>\n",
              "      <td>Domestic Shorthair Mix</td>\n",
              "      <td>Calico</td>\n",
              "    </tr>\n",
              "    <tr>\n",
              "      <th>8</th>\n",
              "      <td>2020</td>\n",
              "      <td>Cat</td>\n",
              "      <td>Intact Male</td>\n",
              "      <td>4 weeks</td>\n",
              "      <td>Domestic Shorthair</td>\n",
              "      <td>Cream Tabby</td>\n",
              "    </tr>\n",
              "    <tr>\n",
              "      <th>9</th>\n",
              "      <td>2018</td>\n",
              "      <td>Cat</td>\n",
              "      <td>Intact Female</td>\n",
              "      <td>4 weeks</td>\n",
              "      <td>Domestic Shorthair Mix</td>\n",
              "      <td>Black/White</td>\n",
              "    </tr>\n",
              "    <tr>\n",
              "      <th>10</th>\n",
              "      <td>2016</td>\n",
              "      <td>Cat</td>\n",
              "      <td>Neutered Male</td>\n",
              "      <td>5 months</td>\n",
              "      <td>Domestic Shorthair Mix</td>\n",
              "      <td>Cream Tabby</td>\n",
              "    </tr>\n",
              "    <tr>\n",
              "      <th>14</th>\n",
              "      <td>2019</td>\n",
              "      <td>Cat</td>\n",
              "      <td>Intact Female</td>\n",
              "      <td>4 years</td>\n",
              "      <td>Domestic Shorthair Mix</td>\n",
              "      <td>Brown Tabby/White</td>\n",
              "    </tr>\n",
              "    <tr>\n",
              "      <th>...</th>\n",
              "      <td>...</td>\n",
              "      <td>...</td>\n",
              "      <td>...</td>\n",
              "      <td>...</td>\n",
              "      <td>...</td>\n",
              "      <td>...</td>\n",
              "    </tr>\n",
              "    <tr>\n",
              "      <th>124085</th>\n",
              "      <td>2021</td>\n",
              "      <td>Cat</td>\n",
              "      <td>Intact Female</td>\n",
              "      <td>3 days</td>\n",
              "      <td>Domestic Shorthair</td>\n",
              "      <td>Torbie</td>\n",
              "    </tr>\n",
              "    <tr>\n",
              "      <th>124088</th>\n",
              "      <td>2021</td>\n",
              "      <td>Cat</td>\n",
              "      <td>Intact Female</td>\n",
              "      <td>2 years</td>\n",
              "      <td>Domestic Shorthair</td>\n",
              "      <td>Brown Tabby</td>\n",
              "    </tr>\n",
              "    <tr>\n",
              "      <th>124091</th>\n",
              "      <td>2021</td>\n",
              "      <td>Cat</td>\n",
              "      <td>Intact Male</td>\n",
              "      <td>3 weeks</td>\n",
              "      <td>Domestic Shorthair</td>\n",
              "      <td>White/Blue Tabby</td>\n",
              "    </tr>\n",
              "    <tr>\n",
              "      <th>124106</th>\n",
              "      <td>2021</td>\n",
              "      <td>Cat</td>\n",
              "      <td>Intact Male</td>\n",
              "      <td>4 months</td>\n",
              "      <td>Domestic Shorthair Mix</td>\n",
              "      <td>Black/White</td>\n",
              "    </tr>\n",
              "    <tr>\n",
              "      <th>124119</th>\n",
              "      <td>2021</td>\n",
              "      <td>Cat</td>\n",
              "      <td>Spayed Female</td>\n",
              "      <td>4 years</td>\n",
              "      <td>Domestic Shorthair Mix</td>\n",
              "      <td>White/Black</td>\n",
              "    </tr>\n",
              "  </tbody>\n",
              "</table>\n",
              "<p>46455 rows × 6 columns</p>\n",
              "</div>\n",
              "      <button class=\"colab-df-convert\" onclick=\"convertToInteractive('df-adc5412e-a874-4432-90a4-54ff4e26a43e')\"\n",
              "              title=\"Convert this dataframe to an interactive table.\"\n",
              "              style=\"display:none;\">\n",
              "        \n",
              "  <svg xmlns=\"http://www.w3.org/2000/svg\" height=\"24px\"viewBox=\"0 0 24 24\"\n",
              "       width=\"24px\">\n",
              "    <path d=\"M0 0h24v24H0V0z\" fill=\"none\"/>\n",
              "    <path d=\"M18.56 5.44l.94 2.06.94-2.06 2.06-.94-2.06-.94-.94-2.06-.94 2.06-2.06.94zm-11 1L8.5 8.5l.94-2.06 2.06-.94-2.06-.94L8.5 2.5l-.94 2.06-2.06.94zm10 10l.94 2.06.94-2.06 2.06-.94-2.06-.94-.94-2.06-.94 2.06-2.06.94z\"/><path d=\"M17.41 7.96l-1.37-1.37c-.4-.4-.92-.59-1.43-.59-.52 0-1.04.2-1.43.59L10.3 9.45l-7.72 7.72c-.78.78-.78 2.05 0 2.83L4 21.41c.39.39.9.59 1.41.59.51 0 1.02-.2 1.41-.59l7.78-7.78 2.81-2.81c.8-.78.8-2.07 0-2.86zM5.41 20L4 18.59l7.72-7.72 1.47 1.35L5.41 20z\"/>\n",
              "  </svg>\n",
              "      </button>\n",
              "      \n",
              "  <style>\n",
              "    .colab-df-container {\n",
              "      display:flex;\n",
              "      flex-wrap:wrap;\n",
              "      gap: 12px;\n",
              "    }\n",
              "\n",
              "    .colab-df-convert {\n",
              "      background-color: #E8F0FE;\n",
              "      border: none;\n",
              "      border-radius: 50%;\n",
              "      cursor: pointer;\n",
              "      display: none;\n",
              "      fill: #1967D2;\n",
              "      height: 32px;\n",
              "      padding: 0 0 0 0;\n",
              "      width: 32px;\n",
              "    }\n",
              "\n",
              "    .colab-df-convert:hover {\n",
              "      background-color: #E2EBFA;\n",
              "      box-shadow: 0px 1px 2px rgba(60, 64, 67, 0.3), 0px 1px 3px 1px rgba(60, 64, 67, 0.15);\n",
              "      fill: #174EA6;\n",
              "    }\n",
              "\n",
              "    [theme=dark] .colab-df-convert {\n",
              "      background-color: #3B4455;\n",
              "      fill: #D2E3FC;\n",
              "    }\n",
              "\n",
              "    [theme=dark] .colab-df-convert:hover {\n",
              "      background-color: #434B5C;\n",
              "      box-shadow: 0px 1px 3px 1px rgba(0, 0, 0, 0.15);\n",
              "      filter: drop-shadow(0px 1px 2px rgba(0, 0, 0, 0.3));\n",
              "      fill: #FFFFFF;\n",
              "    }\n",
              "  </style>\n",
              "\n",
              "      <script>\n",
              "        const buttonEl =\n",
              "          document.querySelector('#df-adc5412e-a874-4432-90a4-54ff4e26a43e button.colab-df-convert');\n",
              "        buttonEl.style.display =\n",
              "          google.colab.kernel.accessAllowed ? 'block' : 'none';\n",
              "\n",
              "        async function convertToInteractive(key) {\n",
              "          const element = document.querySelector('#df-adc5412e-a874-4432-90a4-54ff4e26a43e');\n",
              "          const dataTable =\n",
              "            await google.colab.kernel.invokeFunction('convertToInteractive',\n",
              "                                                     [key], {});\n",
              "          if (!dataTable) return;\n",
              "\n",
              "          const docLinkHtml = 'Like what you see? Visit the ' +\n",
              "            '<a target=\"_blank\" href=https://colab.research.google.com/notebooks/data_table.ipynb>data table notebook</a>'\n",
              "            + ' to learn more about interactive tables.';\n",
              "          element.innerHTML = '';\n",
              "          dataTable['output_type'] = 'display_data';\n",
              "          await google.colab.output.renderOutput(dataTable, element);\n",
              "          const docLink = document.createElement('div');\n",
              "          docLink.innerHTML = docLinkHtml;\n",
              "          element.appendChild(docLink);\n",
              "        }\n",
              "      </script>\n",
              "    </div>\n",
              "  </div>\n",
              "  "
            ],
            "text/plain": [
              "        year Animal Type  ...                   Breed              Color\n",
              "3       2013         Cat  ...  Domestic Shorthair Mix             Calico\n",
              "8       2020         Cat  ...      Domestic Shorthair        Cream Tabby\n",
              "9       2018         Cat  ...  Domestic Shorthair Mix        Black/White\n",
              "10      2016         Cat  ...  Domestic Shorthair Mix        Cream Tabby\n",
              "14      2019         Cat  ...  Domestic Shorthair Mix  Brown Tabby/White\n",
              "...      ...         ...  ...                     ...                ...\n",
              "124085  2021         Cat  ...      Domestic Shorthair             Torbie\n",
              "124088  2021         Cat  ...      Domestic Shorthair        Brown Tabby\n",
              "124091  2021         Cat  ...      Domestic Shorthair   White/Blue Tabby\n",
              "124106  2021         Cat  ...  Domestic Shorthair Mix        Black/White\n",
              "124119  2021         Cat  ...  Domestic Shorthair Mix        White/Black\n",
              "\n",
              "[46455 rows x 6 columns]"
            ]
          },
          "metadata": {},
          "execution_count": 146
        }
      ]
    },
    {
      "cell_type": "code",
      "source": [
        "#Researching the most dog breed in the shelter.\n",
        "df3['Breed'].value_counts()"
      ],
      "metadata": {
        "colab": {
          "base_uri": "https://localhost:8080/"
        },
        "id": "_ejNl3dNJRJt",
        "outputId": "42f0acd7-7ba6-43c8-c716-897fb9162842"
      },
      "execution_count": null,
      "outputs": [
        {
          "output_type": "execute_result",
          "data": {
            "text/plain": [
              "Pit Bull Mix                                  8407\n",
              "Labrador Retriever Mix                        6861\n",
              "Chihuahua Shorthair Mix                       6238\n",
              "German Shepherd Mix                           3003\n",
              "Australian Cattle Dog Mix                     1511\n",
              "                                              ... \n",
              "English Cocker Spaniel                           1\n",
              "Swedish Vallhund                                 1\n",
              "Bruss Griffon/Affenpinscher                      1\n",
              "Chihuahua Shorthair/Shiba Inu                    1\n",
              "Border Terrier/Soft Coated Wheaten Terrier       1\n",
              "Name: Breed, Length: 2326, dtype: int64"
            ]
          },
          "metadata": {},
          "execution_count": 147
        }
      ]
    },
    {
      "cell_type": "code",
      "source": [
        "#Using Pie chart to show the analysis.\n",
        "labels = ['Pit Bull Mix', 'Labrador Retriever Mix','Chihuahua Shorthair Mix','German Shepherd Mix','Australian Cattle Dog Mix']\n",
        "sizes= [8407, 6861, 6238, 3003, 1511]\n",
        "plt.pie(sizes,labels=labels, startangle=90, shadow=True,explode=(0.1, 0.1, 0.1, 0.1,0.1),)\n",
        "plt.axis('equal')\n",
        "plt.title('Dog Breed', y = 1.15)\n",
        "#plt.legend(bbox_to_anchor = (1.2,1), loc='upper left')\n",
        "plt.rc('font', size=12) "
      ],
      "metadata": {
        "colab": {
          "base_uri": "https://localhost:8080/",
          "height": 297
        },
        "id": "fzZZMcnMOrG1",
        "outputId": "4321f184-8710-42f6-9a57-1f4db1863a7e"
      },
      "execution_count": null,
      "outputs": [
        {
          "output_type": "display_data",
          "data": {
            "image/png": "[encoded data removed]",
            "text/plain": [
              "<Figure size 432x288 with 1 Axes>"
            ]
          },
          "metadata": {}
        }
      ]
    },
    {
      "cell_type": "code",
      "source": [
        "#Top 5 Breed of Cat in the Shelter\n",
        "df4['Breed'].value_counts()"
      ],
      "metadata": {
        "colab": {
          "base_uri": "https://localhost:8080/"
        },
        "id": "8LYPc-sSIws-",
        "outputId": "8fef1fe0-8262-488c-abd1-e5e28621f806"
      },
      "execution_count": null,
      "outputs": [
        {
          "output_type": "execute_result",
          "data": {
            "text/plain": [
              "Domestic Shorthair Mix           30985\n",
              "Domestic Shorthair                7006\n",
              "Domestic Medium Hair Mix          3115\n",
              "Domestic Longhair Mix             1540\n",
              "Siamese Mix                       1279\n",
              "                                 ...  \n",
              "Domestic Shorthair/Abyssinian        1\n",
              "Tonkinese                            1\n",
              "Turkish Angora                       1\n",
              "Angora/Persian                       1\n",
              "Snowshoe/Siamese                     1\n",
              "Name: Breed, Length: 100, dtype: int64"
            ]
          },
          "metadata": {},
          "execution_count": 150
        }
      ]
    },
    {
      "cell_type": "code",
      "source": [
        "#Using Pie chart to show the analysis.\n",
        "labels = ['Domestic Shorthair Mix', 'Domestic Shorthair  ','Domestic Medium Hair Mix','Domestic Longhair Mix','Siamese Mix']\n",
        "sizes= [30985, 7006, 3115, 1540, 1279]\n",
        "plt.pie(sizes,labels=labels, startangle=90, shadow=True,explode=(0.1, 0.1, 0.2, 0.4,0.6))\n",
        "plt.axis('equal')\n",
        "plt.title('Cat Breed', y = 1.15)\n",
        "#plt.legend(bbox_to_anchor = (1.2,1), loc='upper left')\n",
        "plt.rc('font', size=12) "
      ],
      "metadata": {
        "colab": {
          "base_uri": "https://localhost:8080/",
          "height": 298
        },
        "id": "1TnXT3qYPfZa",
        "outputId": "5bc95f56-2c4b-4274-dcb0-5e6d624d831b"
      },
      "execution_count": null,
      "outputs": [
        {
          "output_type": "display_data",
          "data": {
            "image/png": "[encoded data removed]",
            "text/plain": [
              "<Figure size 432x288 with 1 Axes>"
            ]
          },
          "metadata": {}
        }
      ]
    },
    {
      "cell_type": "markdown",
      "source": [
        "# **Conclusion**\n",
        "\n",
        "\n",
        "This analysis shows the number intake was decreasing from 2020 to 2021 by 46%.  It is possible that people stayed home more during that time and they are more considerate about adopting the animals. This could be the cause of decreasing in number.\n",
        "\n",
        "The first and second range are stray animals are owner surrender. Stray dog, can be from lost animal; therefore, the owner should put the microchip on the pets and put the collar on and include the owner's number on it in case they get lost . Nobody wants to surrender their own animal, but there are so many reasons they choose this way; for example, lack of finances, unruly animal behavior, and no time to take care of the pet. \n",
        "\n",
        "Finally, there are so many healthy animals which are ready to be moved to their forever new home. By saving the animal's life it will give them more chances to have a forever home and a better life. These animal are waiting for the forever family."
      ],
      "metadata": {
        "id": "I6vArxRMBsyo"
      }
    },
    {
      "cell_type": "markdown",
      "source": [
        "![dog.jpeg](data:image/jpeg;base64,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)"
      ],
      "metadata": {
        "id": "7yDz9BnH2uTd"
      }
    }
  ]
}